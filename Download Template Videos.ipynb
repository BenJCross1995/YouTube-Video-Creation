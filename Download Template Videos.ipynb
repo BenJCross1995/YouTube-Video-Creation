{
 "cells": [
  {
   "cell_type": "markdown",
   "id": "9d0abbc4",
   "metadata": {},
   "source": [
    "# Video Creation Script"
   ]
  },
  {
   "cell_type": "code",
   "execution_count": 30,
   "id": "20efcca1",
   "metadata": {},
   "outputs": [],
   "source": [
    "# Import all required modules\n",
    "import pandas as pd\n",
    "import random\n",
    "from pytube import YouTube\n",
    "from moviepy.editor import *"
   ]
  },
  {
   "cell_type": "markdown",
   "id": "c08b90ec",
   "metadata": {},
   "source": [
    "### Video and Audio Selection"
   ]
  },
  {
   "cell_type": "code",
   "execution_count": 31,
   "id": "9733617a",
   "metadata": {},
   "outputs": [],
   "source": [
    "# Import the videos from working directory\n",
    "audio_options = pd.read_csv(\"NoCopyrightSounds - WithDescriptions.csv\")\n",
    "vids = pd.read_csv(\"Background Video Links.csv\")"
   ]
  },
  {
   "cell_type": "code",
   "execution_count": 32,
   "id": "13aff5d5",
   "metadata": {},
   "outputs": [],
   "source": [
    "# Choose a random audio file and pull its youtube URL\n",
    "selected_audio = audio_options.sample()\n",
    "audio_url = selected_audio['videoURL'].iloc[0]"
   ]
  },
  {
   "cell_type": "code",
   "execution_count": 33,
   "id": "051bd906",
   "metadata": {},
   "outputs": [],
   "source": [
    "# Here we aim to get the YouTube objects and video lengths of all background\n",
    "# video options.\n",
    "vid_length = []\n",
    "video_yt = []\n",
    "vid_time = 0\n",
    "\n",
    "# A loop is used because sometime YouTube function fails to connect to the video\n",
    "# so if we set length = 0 when this occurs we can loop videos until the object is\n",
    "# returned. Once we have the object we have all information about the video.\n",
    "for vid in vids['video_url']:\n",
    "    while vid_time == 0:\n",
    "        vid_object = YouTube(vid)\n",
    "        try:\n",
    "            vid_time = vid_object.length\n",
    "        except:\n",
    "            vid_time = 0\n",
    "    \n",
    "    # Once we have connection then append the time and the object itself\n",
    "    vid_length.append(vid_time)\n",
    "    video_yt.append(vid_object)\n",
    "    # Set the vid_time back to zero below to begin looking at next video.\n",
    "    vid_time = 0 \n",
    "        \n",
    "vid_length = pd.DataFrame({'video_length':vid_length})"
   ]
  },
  {
   "cell_type": "code",
   "execution_count": 34,
   "id": "a1d9fd24",
   "metadata": {},
   "outputs": [],
   "source": [
    "# Create a dataframe out of the video information and extract the video id\n",
    "vid_data = pd.DataFrame({'video_url':vids['video_url'], 'video_yt':video_yt})\n",
    "vid_data['video_id'] = vid_data['video_url'].str.extract(r'v=(\\w+)')\n",
    "vid_data = pd.concat([vid_data, vid_length], axis=1)"
   ]
  },
  {
   "cell_type": "code",
   "execution_count": 35,
   "id": "32f2630e",
   "metadata": {
    "scrolled": true
   },
   "outputs": [],
   "source": [
    "# Want to return length of audio, same as for the video files\n",
    "audio_length = 0\n",
    "while audio_length == 0:\n",
    "        audio_yt = YouTube(audio_url)\n",
    "        try:\n",
    "            audio_length = audio_yt.length\n",
    "        except:\n",
    "            audio_length = 0"
   ]
  },
  {
   "cell_type": "code",
   "execution_count": 36,
   "id": "b2d5260f",
   "metadata": {},
   "outputs": [],
   "source": [
    "# Filter videos for only videos longer than the selected audio file\n",
    "video_options = vid_data[vid_data[\"video_length\"] > audio_length] \n",
    "\n",
    "# Take a sample video\n",
    "selected_video = video_options.sample()['video_yt'].iloc[0]"
   ]
  },
  {
   "cell_type": "code",
   "execution_count": 37,
   "id": "bf83550e",
   "metadata": {},
   "outputs": [],
   "source": [
    "# selected_video.watch_url"
   ]
  },
  {
   "cell_type": "code",
   "execution_count": 38,
   "id": "b3bd179d",
   "metadata": {},
   "outputs": [],
   "source": [
    "# audio_yt.watch_url"
   ]
  },
  {
   "cell_type": "markdown",
   "id": "17cd6f4c",
   "metadata": {},
   "source": [
    "### Video and Audio Download"
   ]
  },
  {
   "cell_type": "code",
   "execution_count": 39,
   "id": "f473cad4",
   "metadata": {},
   "outputs": [],
   "source": [
    "# Return the start and end points for background video. Want video to start\n",
    "# at any point between 0s and what will get full audio file included\n",
    "start_point = random.randint(0, selected_video.length - audio_yt.length -1)\n",
    "end_point = start_point + audio_yt.length"
   ]
  },
  {
   "cell_type": "code",
   "execution_count": 40,
   "id": "cc7b79f9",
   "metadata": {},
   "outputs": [
    {
     "data": {
      "text/plain": [
       "'C:\\\\Users\\\\bencros\\\\Documents\\\\GitHub\\\\TikTokSideHustle\\\\video_no_audio.mp4'"
      ]
     },
     "execution_count": 40,
     "metadata": {},
     "output_type": "execute_result"
    }
   ],
   "source": [
    "# Download the audio and video files to audio.mp3 and video_no_audio.mp4 in working directory\n",
    "audio_yt.streams.filter(only_audio = True, file_extension = 'mp4').first().download(filename=\"audio.mp3\")\n",
    "selected_video.streams.filter(only_video = True, file_extension = 'mp4').first().download(filename = \"video_no_audio.mp4\")"
   ]
  },
  {
   "cell_type": "markdown",
   "id": "d670e29c",
   "metadata": {},
   "source": [
    "### Video Creation"
   ]
  },
  {
   "cell_type": "code",
   "execution_count": 41,
   "id": "f1412112",
   "metadata": {},
   "outputs": [
    {
     "name": "stdout",
     "output_type": "stream",
     "text": [
      "Moviepy - Building video video.mp4.\n",
      "MoviePy - Writing audio in videoTEMP_MPY_wvf_snd.mp3\n"
     ]
    },
    {
     "name": "stderr",
     "output_type": "stream",
     "text": [
      "                                                                                                                       \r"
     ]
    },
    {
     "name": "stdout",
     "output_type": "stream",
     "text": [
      "MoviePy - Done.\n",
      "Moviepy - Writing video video.mp4\n",
      "\n"
     ]
    },
    {
     "name": "stderr",
     "output_type": "stream",
     "text": [
      "                                                                                                                       \r"
     ]
    },
    {
     "name": "stdout",
     "output_type": "stream",
     "text": [
      "Moviepy - Done !\n",
      "Moviepy - video ready video.mp4\n"
     ]
    }
   ],
   "source": [
    "# Read the audio and video files\n",
    "video_clip = VideoFileClip(\"video_no_audio.mp4\")\n",
    "audio_clip = AudioFileClip(\"audio.mp3\")\n",
    "\n",
    "# Create a video from chosen start and endpoints\n",
    "# video_clip = video_clip.subclip(0, audio_length) - KEEPING IN CASE I REVERT BACK\n",
    "video_clip = video_clip.subclip(start_point, end_point)\n",
    "\n",
    "# Code provided to make audio work on video\n",
    "new_audioclip = CompositeAudioClip([audio_clip])\n",
    "video_clip.audio = new_audioclip\n",
    "\n",
    "# Write the video to an mp4 file\n",
    "video_clip.write_videofile(\"video.mp4\")"
   ]
  }
 ],
 "metadata": {
  "kernelspec": {
   "display_name": "Python 3 (ipykernel)",
   "language": "python",
   "name": "python3"
  },
  "language_info": {
   "codemirror_mode": {
    "name": "ipython",
    "version": 3
   },
   "file_extension": ".py",
   "mimetype": "text/x-python",
   "name": "python",
   "nbconvert_exporter": "python",
   "pygments_lexer": "ipython3",
   "version": "3.10.9"
  }
 },
 "nbformat": 4,
 "nbformat_minor": 5
}
