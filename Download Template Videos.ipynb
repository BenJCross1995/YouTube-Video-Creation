{
 "cells": [
  {
   "cell_type": "code",
   "execution_count": 19,
   "id": "20efcca1",
   "metadata": {},
   "outputs": [],
   "source": [
    "import pandas as pd\n",
    "import random\n",
    "from pytube import YouTube\n",
    "from moviepy.editor import *"
   ]
  },
  {
   "cell_type": "code",
   "execution_count": 21,
   "id": "e0d2dfca",
   "metadata": {},
   "outputs": [
    {
     "ename": "NameError",
     "evalue": "name 'moviepy' is not defined",
     "output_type": "error",
     "traceback": [
      "\u001b[0;31m---------------------------------------------------------------------------\u001b[0m",
      "\u001b[0;31mNameError\u001b[0m                                 Traceback (most recent call last)",
      "Cell \u001b[0;32mIn[21], line 1\u001b[0m\n\u001b[0;32m----> 1\u001b[0m \u001b[38;5;28mprint\u001b[39m(\u001b[43mmoviepy\u001b[49m\u001b[38;5;241m.\u001b[39meditor__version__)\n",
      "\u001b[0;31mNameError\u001b[0m: name 'moviepy' is not defined"
     ]
    }
   ],
   "source": [
    "print(moviepy.editor__version__)"
   ]
  },
  {
   "cell_type": "code",
   "execution_count": 2,
   "id": "13aff5d5",
   "metadata": {},
   "outputs": [],
   "source": [
    "audio_options = pd.read_csv(\"NoCopyrightSounds - WithDescriptions.csv\")\n",
    "selected_audio = audio_options.sample()\n",
    "audio_url = selected_audio['videoURL'].iloc[0]"
   ]
  },
  {
   "cell_type": "code",
   "execution_count": 3,
   "id": "581e12fe",
   "metadata": {},
   "outputs": [],
   "source": [
    "vids = [\n",
    "    \"https://www.youtube.com/watch?v=XYLg6Y1eMzo\",\n",
    "    \"https://www.youtube.com/watch?v=muczNvx9fgg\",\n",
    "    \"https://www.youtube.com/watch?v=cEHP_LeBeyQ\",\n",
    "    \"https://www.youtube.com/watch?v=iUtnZpzkbG8\",\n",
    "    \"https://www.youtube.com/watch?v=TfuNwm3D3Qc\",\n",
    "    \"https://www.youtube.com/watch?v=Sq9eRhmnghE\",\n",
    "    \"https://www.youtube.com/watch?v=xUZOXrb1c4E\",\n",
    "    \"https://www.youtube.com/watch?v=KaHypeOcui0\",\n",
    "    \"https://www.youtube.com/watch?v=vhpOhHEhVOg\"\n",
    "]"
   ]
  },
  {
   "cell_type": "code",
   "execution_count": 4,
   "id": "051bd906",
   "metadata": {},
   "outputs": [],
   "source": [
    "vid_length = []\n",
    "video_yt = []\n",
    "vid_time = 0\n",
    "\n",
    "for vid in vids:\n",
    "    while vid_time == 0:\n",
    "        vid_object = YouTube(vid)\n",
    "        try:\n",
    "            vid_time = vid_object.length\n",
    "        except:\n",
    "            vid_time = 0\n",
    "        \n",
    "    vid_length.append(vid_time)\n",
    "    video_yt.append(vid_object)\n",
    "    vid_time = 0 \n",
    "        \n",
    "vid_length = pd.DataFrame({'video_length':vid_length})"
   ]
  },
  {
   "cell_type": "code",
   "execution_count": 5,
   "id": "a1d9fd24",
   "metadata": {},
   "outputs": [],
   "source": [
    "vid_data = pd.DataFrame({'video_url':vids, 'video_yt':video_yt})\n",
    "vid_data['video_id'] = vid_data['video_url'].str.extract(r'v=(\\w+)')\n",
    "vid_data = pd.concat([vid_data, vid_length], axis=1)"
   ]
  },
  {
   "cell_type": "code",
   "execution_count": 6,
   "id": "443fd6bc",
   "metadata": {
    "scrolled": true
   },
   "outputs": [
    {
     "data": {
      "text/html": [
       "<div>\n",
       "<style scoped>\n",
       "    .dataframe tbody tr th:only-of-type {\n",
       "        vertical-align: middle;\n",
       "    }\n",
       "\n",
       "    .dataframe tbody tr th {\n",
       "        vertical-align: top;\n",
       "    }\n",
       "\n",
       "    .dataframe thead th {\n",
       "        text-align: right;\n",
       "    }\n",
       "</style>\n",
       "<table border=\"1\" class=\"dataframe\">\n",
       "  <thead>\n",
       "    <tr style=\"text-align: right;\">\n",
       "      <th></th>\n",
       "      <th>video_url</th>\n",
       "      <th>video_yt</th>\n",
       "      <th>video_id</th>\n",
       "      <th>video_length</th>\n",
       "    </tr>\n",
       "  </thead>\n",
       "  <tbody>\n",
       "    <tr>\n",
       "      <th>0</th>\n",
       "      <td>https://www.youtube.com/watch?v=XYLg6Y1eMzo</td>\n",
       "      <td>&lt;pytube.__main__.YouTube object: videoId=XYLg6...</td>\n",
       "      <td>XYLg6Y1eMzo</td>\n",
       "      <td>515</td>\n",
       "    </tr>\n",
       "    <tr>\n",
       "      <th>1</th>\n",
       "      <td>https://www.youtube.com/watch?v=muczNvx9fgg</td>\n",
       "      <td>&lt;pytube.__main__.YouTube object: videoId=muczN...</td>\n",
       "      <td>muczNvx9fgg</td>\n",
       "      <td>677</td>\n",
       "    </tr>\n",
       "    <tr>\n",
       "      <th>2</th>\n",
       "      <td>https://www.youtube.com/watch?v=cEHP_LeBeyQ</td>\n",
       "      <td>&lt;pytube.__main__.YouTube object: videoId=cEHP_...</td>\n",
       "      <td>cEHP_LeBeyQ</td>\n",
       "      <td>368</td>\n",
       "    </tr>\n",
       "    <tr>\n",
       "      <th>3</th>\n",
       "      <td>https://www.youtube.com/watch?v=iUtnZpzkbG8</td>\n",
       "      <td>&lt;pytube.__main__.YouTube object: videoId=iUtnZ...</td>\n",
       "      <td>iUtnZpzkbG8</td>\n",
       "      <td>185</td>\n",
       "    </tr>\n",
       "    <tr>\n",
       "      <th>4</th>\n",
       "      <td>https://www.youtube.com/watch?v=TfuNwm3D3Qc</td>\n",
       "      <td>&lt;pytube.__main__.YouTube object: videoId=TfuNw...</td>\n",
       "      <td>TfuNwm3D3Qc</td>\n",
       "      <td>603</td>\n",
       "    </tr>\n",
       "    <tr>\n",
       "      <th>5</th>\n",
       "      <td>https://www.youtube.com/watch?v=Sq9eRhmnghE</td>\n",
       "      <td>&lt;pytube.__main__.YouTube object: videoId=Sq9eR...</td>\n",
       "      <td>Sq9eRhmnghE</td>\n",
       "      <td>659</td>\n",
       "    </tr>\n",
       "    <tr>\n",
       "      <th>6</th>\n",
       "      <td>https://www.youtube.com/watch?v=xUZOXrb1c4E</td>\n",
       "      <td>&lt;pytube.__main__.YouTube object: videoId=xUZOX...</td>\n",
       "      <td>xUZOXrb1c4E</td>\n",
       "      <td>1327</td>\n",
       "    </tr>\n",
       "    <tr>\n",
       "      <th>7</th>\n",
       "      <td>https://www.youtube.com/watch?v=KaHypeOcui0</td>\n",
       "      <td>&lt;pytube.__main__.YouTube object: videoId=KaHyp...</td>\n",
       "      <td>KaHypeOcui0</td>\n",
       "      <td>491</td>\n",
       "    </tr>\n",
       "    <tr>\n",
       "      <th>8</th>\n",
       "      <td>https://www.youtube.com/watch?v=vhpOhHEhVOg</td>\n",
       "      <td>&lt;pytube.__main__.YouTube object: videoId=vhpOh...</td>\n",
       "      <td>vhpOhHEhVOg</td>\n",
       "      <td>609</td>\n",
       "    </tr>\n",
       "  </tbody>\n",
       "</table>\n",
       "</div>"
      ],
      "text/plain": [
       "                                     video_url  \\\n",
       "0  https://www.youtube.com/watch?v=XYLg6Y1eMzo   \n",
       "1  https://www.youtube.com/watch?v=muczNvx9fgg   \n",
       "2  https://www.youtube.com/watch?v=cEHP_LeBeyQ   \n",
       "3  https://www.youtube.com/watch?v=iUtnZpzkbG8   \n",
       "4  https://www.youtube.com/watch?v=TfuNwm3D3Qc   \n",
       "5  https://www.youtube.com/watch?v=Sq9eRhmnghE   \n",
       "6  https://www.youtube.com/watch?v=xUZOXrb1c4E   \n",
       "7  https://www.youtube.com/watch?v=KaHypeOcui0   \n",
       "8  https://www.youtube.com/watch?v=vhpOhHEhVOg   \n",
       "\n",
       "                                            video_yt     video_id  \\\n",
       "0  <pytube.__main__.YouTube object: videoId=XYLg6...  XYLg6Y1eMzo   \n",
       "1  <pytube.__main__.YouTube object: videoId=muczN...  muczNvx9fgg   \n",
       "2  <pytube.__main__.YouTube object: videoId=cEHP_...  cEHP_LeBeyQ   \n",
       "3  <pytube.__main__.YouTube object: videoId=iUtnZ...  iUtnZpzkbG8   \n",
       "4  <pytube.__main__.YouTube object: videoId=TfuNw...  TfuNwm3D3Qc   \n",
       "5  <pytube.__main__.YouTube object: videoId=Sq9eR...  Sq9eRhmnghE   \n",
       "6  <pytube.__main__.YouTube object: videoId=xUZOX...  xUZOXrb1c4E   \n",
       "7  <pytube.__main__.YouTube object: videoId=KaHyp...  KaHypeOcui0   \n",
       "8  <pytube.__main__.YouTube object: videoId=vhpOh...  vhpOhHEhVOg   \n",
       "\n",
       "   video_length  \n",
       "0           515  \n",
       "1           677  \n",
       "2           368  \n",
       "3           185  \n",
       "4           603  \n",
       "5           659  \n",
       "6          1327  \n",
       "7           491  \n",
       "8           609  "
      ]
     },
     "execution_count": 6,
     "metadata": {},
     "output_type": "execute_result"
    }
   ],
   "source": [
    "vid_data"
   ]
  },
  {
   "cell_type": "code",
   "execution_count": 7,
   "id": "32f2630e",
   "metadata": {
    "scrolled": true
   },
   "outputs": [],
   "source": [
    "audio_length = 0\n",
    "while audio_length == 0:\n",
    "        audio_yt = YouTube(audio_url)\n",
    "        try:\n",
    "            audio_length = audio_yt.length\n",
    "        except:\n",
    "            audio_length = 0"
   ]
  },
  {
   "cell_type": "code",
   "execution_count": 8,
   "id": "b2d5260f",
   "metadata": {},
   "outputs": [],
   "source": [
    "video_options = vid_data[vid_data[\"video_length\"] > audio_length] "
   ]
  },
  {
   "cell_type": "code",
   "execution_count": 9,
   "id": "4cb1781e",
   "metadata": {},
   "outputs": [],
   "source": [
    "selected_video = video_options.sample()['video_yt'].iloc[0]"
   ]
  },
  {
   "cell_type": "code",
   "execution_count": 10,
   "id": "bf83550e",
   "metadata": {},
   "outputs": [
    {
     "data": {
      "text/plain": [
       "'https://youtube.com/watch?v=Sq9eRhmnghE'"
      ]
     },
     "execution_count": 10,
     "metadata": {},
     "output_type": "execute_result"
    }
   ],
   "source": [
    "selected_video.watch_url"
   ]
  },
  {
   "cell_type": "code",
   "execution_count": 11,
   "id": "b3bd179d",
   "metadata": {},
   "outputs": [
    {
     "data": {
      "text/plain": [
       "'https://youtube.com/watch?v=D-TQB-T-UJ4'"
      ]
     },
     "execution_count": 11,
     "metadata": {},
     "output_type": "execute_result"
    }
   ],
   "source": [
    "audio_yt.watch_url"
   ]
  },
  {
   "cell_type": "code",
   "execution_count": 12,
   "id": "cc7b79f9",
   "metadata": {},
   "outputs": [
    {
     "data": {
      "text/plain": [
       "'/Users/user/Documents/GitHub/TikTokSideHustle/video_no_audio.mp4'"
      ]
     },
     "execution_count": 12,
     "metadata": {},
     "output_type": "execute_result"
    }
   ],
   "source": [
    "audio_yt.streams.filter(only_audio = True, file_extension = 'mp4').first().download(filename=\"audio.mp3\")\n",
    "selected_video.streams.filter(only_video = True, file_extension = 'mp4').first().download(filename = \"video_no_audio.mp4\")"
   ]
  },
  {
   "cell_type": "code",
   "execution_count": 13,
   "id": "f1412112",
   "metadata": {},
   "outputs": [
    {
     "name": "stdout",
     "output_type": "stream",
     "text": [
      "Moviepy - Building video video.mp4.\n",
      "MoviePy - Writing audio in videoTEMP_MPY_wvf_snd.mp3\n"
     ]
    },
    {
     "name": "stderr",
     "output_type": "stream",
     "text": [
      "                                                                                \r"
     ]
    },
    {
     "name": "stdout",
     "output_type": "stream",
     "text": [
      "MoviePy - Done.\n",
      "Moviepy - Writing video video.mp4\n",
      "\n"
     ]
    },
    {
     "name": "stderr",
     "output_type": "stream",
     "text": [
      "                                                                                \r"
     ]
    },
    {
     "name": "stdout",
     "output_type": "stream",
     "text": [
      "Moviepy - Done !\n",
      "Moviepy - video ready video.mp4\n"
     ]
    }
   ],
   "source": [
    "video_clip = VideoFileClip(\"video_no_audio.mp4\")\n",
    "audio_clip = AudioFileClip(\"audio.mp3\")\n",
    "video_clip = video_clip.subclip(0, audio_length)\n",
    "\n",
    "new_audioclip = CompositeAudioClip([audio_clip])\n",
    "video_clip.audio = new_audioclip\n",
    "video_clip.write_videofile(\"video.mp4\")"
   ]
  },
  {
   "cell_type": "code",
   "execution_count": null,
   "id": "2dad49e0",
   "metadata": {},
   "outputs": [],
   "source": []
  }
 ],
 "metadata": {
  "kernelspec": {
   "display_name": "Python 3 (ipykernel)",
   "language": "python",
   "name": "python3"
  },
  "language_info": {
   "codemirror_mode": {
    "name": "ipython",
    "version": 3
   },
   "file_extension": ".py",
   "mimetype": "text/x-python",
   "name": "python",
   "nbconvert_exporter": "python",
   "pygments_lexer": "ipython3",
   "version": "3.10.9"
  }
 },
 "nbformat": 4,
 "nbformat_minor": 5
}
