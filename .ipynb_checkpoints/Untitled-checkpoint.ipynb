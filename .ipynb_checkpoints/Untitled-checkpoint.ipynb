{
 "cells": [
  {
   "cell_type": "code",
   "execution_count": null,
   "id": "d6a66737",
   "metadata": {},
   "outputs": [],
   "source": [
    "import tweepy\n",
    " \n",
    "def main():\n",
    "    twitter_auth_keys = {\n",
    "        \"consumer_key\"        : \"REPLACE_THIS_WITH_YOUR_CONSUMER_KEY\",\n",
    "        \"consumer_secret\"     : \"REPLACE_THIS_WITH_YOUR_CONSUMER_SECRET\",\n",
    "        \"access_token\"        : \"REPLACE_THIS_WITH_YOUR_ACCESS_TOKEN\",\n",
    "        \"access_token_secret\" : \"REPLACE_THIS_WITH_YOUR_ACCESS_TOKEN_SECRET\"\n",
    "    }\n",
    " \n",
    "    auth = tweepy.OAuthHandler(\n",
    "            twitter_auth_keys['consumer_key'],\n",
    "            twitter_auth_keys['consumer_secret']\n",
    "            )\n",
    "    auth.set_access_token(\n",
    "            twitter_auth_keys['access_token'],\n",
    "            twitter_auth_keys['access_token_secret']\n",
    "            )\n",
    "    api = tweepy.API(auth)\n",
    " \n",
    "    # Upload image\n",
    "    media = api.media_upload(\"william_gibson.jpg\")\n",
    " \n",
    "    # Post tweet with image\n",
    "    tweet = \"Great scifi author or greatest scifi author? #williamgibson\"\n",
    "    post_result = api.update_status(status=tweet, media_ids=[media.media_id])\n",
    "    \n",
    "if __name__ == \"__main__\":\n",
    "    main()\n"
   ]
  }
 ],
 "metadata": {
  "kernelspec": {
   "display_name": "Python 3 (ipykernel)",
   "language": "python",
   "name": "python3"
  },
  "language_info": {
   "codemirror_mode": {
    "name": "ipython",
    "version": 3
   },
   "file_extension": ".py",
   "mimetype": "text/x-python",
   "name": "python",
   "nbconvert_exporter": "python",
   "pygments_lexer": "ipython3",
   "version": "3.10.9"
  }
 },
 "nbformat": 4,
 "nbformat_minor": 5
}
