{
 "cells": [
  {
   "cell_type": "markdown",
   "id": "1d261df2",
   "metadata": {},
   "source": [
    "# TikTok-YouTube Project\n"
   ]
  },
  {
   "cell_type": "markdown",
   "id": "e61815c0",
   "metadata": {},
   "source": [
    "The overall aim of this project is to pull trending videos from TikTok and create a compilation video which is automatically published to YouTube. This will hopefully result in some residual income as i aim to publish videos 4-6 times daily when autonomous."
   ]
  },
  {
   "cell_type": "markdown",
   "id": "5c8d2df5",
   "metadata": {},
   "source": [
    "## Load Modules"
   ]
  },
  {
   "cell_type": "code",
   "execution_count": null,
   "id": "78e4a34b",
   "metadata": {},
   "outputs": [],
   "source": [
    "import http.client # Query API\n",
    "import pandas as pd # Manipulate Dataframe\n",
    "import json # Manipulate JSON objects\n",
    "import urllib.request # Download videos from URL\n",
    "from os import listdir # List files in a directory\n",
    "from os.path import isfile, join # Joining and filtering files\n",
    "from moviepy.editor import * # Write final video to drive"
   ]
  },
  {
   "cell_type": "markdown",
   "id": "5b182fb4",
   "metadata": {},
   "source": [
    "## Retrieve Video Data"
   ]
  },
  {
   "cell_type": "markdown",
   "id": "ef46c4af",
   "metadata": {},
   "source": [
    "This code queries the TikTok API from RapidAPI and pulls video data based on a user-selected hashtag. There is scope to have this hashtag auto generated some way, maybe another API query and selected the most popular and then perform the query to pull the data."
   ]
  },
  {
   "cell_type": "code",
   "execution_count": null,
   "id": "da183ab3",
   "metadata": {},
   "outputs": [],
   "source": [
    "# Connect to API\n",
    "conn = http.client.HTTPSConnection(\"tiktok82.p.rapidapi.com\")\n",
    "\n",
    "# API keys for RAPID API - Will try to get these stored secretly\n",
    "headers = {\n",
    "    'X-RapidAPI-Key': \"ee9f9a0a74mshdf11304da3f9e15p15be10jsna76036e001f3\",\n",
    "    'X-RapidAPI-Host': \"tiktok82.p.rapidapi.com\"\n",
    "    }\n",
    "\n",
    "# Perform the request, selected hashtag can be changed as well as the cursor value\n",
    "conn.request(\"GET\", \"/getChallengeVideos?hashtag=fyp&cursor=50\", headers=headers)\n",
    "\n",
    "# Get the response from API\n",
    "res = conn.getresponse()\n",
    "\n",
    "# Read the data\n",
    "tiktok_hashtag_info = res.read()"
   ]
  },
  {
   "cell_type": "markdown",
   "id": "641c86c7",
   "metadata": {},
   "source": [
    "## Manipulate Data"
   ]
  },
  {
   "cell_type": "markdown",
   "id": "c444e04c",
   "metadata": {},
   "source": [
    "Here we convert the data into a dataframe and manipulate to the point where we are ready to download the videos from TikTok."
   ]
  },
  {
   "cell_type": "code",
   "execution_count": null,
   "id": "f7ab9fc4",
   "metadata": {},
   "outputs": [],
   "source": [
    "# Select the correct data from the download data -> item_list and convert to JSON\n",
    "df = json.loads(tiktok_hashtag_info.decode(\"utf-8\"))['data']['item_list']\n",
    "\n",
    "# Convert the dictionary to a datframe\n",
    "df = pd.DataFrame.from_dict(df)\n",
    "\n",
    "# Select columns required\n",
    "df = df[['id', 'desc', 'createTime', 'video', 'author', 'stats', 'authorStats']]"
   ]
  },
  {
   "cell_type": "code",
   "execution_count": null,
   "id": "7ce3badb",
   "metadata": {},
   "outputs": [],
   "source": [
    "# Unnest the video column and remove it\n",
    "df = pd.concat([df.drop('video', axis=1),\n",
    "                pd.DataFrame(df['video'].tolist())], axis=1)\n",
    "\n",
    "# Unnest the stats column and remove it\n",
    "df = pd.concat([df.drop('stats', axis=1),\n",
    "                pd.DataFrame(df['stats'].tolist())], axis=1)\n",
    "\n",
    "# Unnest the authorStats column and remove it\n",
    "df = pd.concat([df.drop('authorStats', axis=1),\n",
    "                pd.DataFrame(df['authorStats'].tolist())], axis=1)\n",
    "\n",
    "# Unnest the author column and remove it, we need to join this back to dataframe\n",
    "# as the id column represents the author id here and not video id so column gets\n",
    "# removed if done like the steps above\n",
    "df = pd.concat([df.drop('author', axis=1),\n",
    "                pd.json_normalize(df['author'])], axis=1)"
   ]
  },
  {
   "cell_type": "code",
   "execution_count": null,
   "id": "a3e8286c",
   "metadata": {},
   "outputs": [],
   "source": [
    "# Combine the first ID column with the rest of the desired columns, have to use df.iloc[:,0] as there are\n",
    "# multiple columns called id and we just want the first one in the dataframe\n",
    "df = pd.concat([df.iloc[:,0], df[['desc', 'createTime', 'height', 'width', 'duration', 'downloadAddr',\n",
    "   'shareCount', 'commentCount', 'playCount', 'followerCount', 'heartCount',\n",
    "   'uniqueId', 'nickname']]], axis = 1)\n",
    "\n",
    "# Sort the dataframe - dont know whether to keep as video download seems to do normal order anyway\n",
    "# df = df.sort_values(['playCount', 'shareCount', 'followerCount'], ascending = False)"
   ]
  },
  {
   "cell_type": "code",
   "execution_count": null,
   "id": "e0ce0700",
   "metadata": {},
   "outputs": [],
   "source": [
    "# Create the download url based on what is used in the API example online\n",
    "df['videoUrl'] = \"/getDownloadVideoWithWatermark?video_url=https%3A%2F%2Fwww.tiktok.com%2F%40\" + df['uniqueId'] + \"%2Fvideo%2F\" + df['id']"
   ]
  },
  {
   "cell_type": "code",
   "execution_count": null,
   "id": "02685d63",
   "metadata": {},
   "outputs": [],
   "source": [
    "# Save the dataframe at this point to edit\n",
    "# df.to_csv(\"storedData.csv\")"
   ]
  },
  {
   "cell_type": "markdown",
   "id": "1f72b235",
   "metadata": {},
   "source": [
    "## Download Videos"
   ]
  },
  {
   "cell_type": "markdown",
   "id": "f80fc487",
   "metadata": {},
   "source": [
    "Code below downloads video with watermark."
   ]
  },
  {
   "cell_type": "code",
   "execution_count": null,
   "id": "84b5e706",
   "metadata": {},
   "outputs": [],
   "source": [
    "# Pull the column containing the urls to download videos\n",
    "vids_to_download = df['videoUrl']"
   ]
  },
  {
   "cell_type": "code",
   "execution_count": null,
   "id": "4a6a3bf2",
   "metadata": {},
   "outputs": [],
   "source": [
    "# Connection to API\n",
    "conn = http.client.HTTPSConnection(\"tiktok82.p.rapidapi.com\")\n",
    "\n",
    "# Again add the headers\n",
    "headers = {\n",
    "    'X-RapidAPI-Key': \"ee9f9a0a74mshdf11304da3f9e15p15be10jsna76036e001f3\",\n",
    "    'X-RapidAPI-Host': \"tiktok82.p.rapidapi.com\"\n",
    "    }\n",
    "\n",
    "# Location to save the videos before combining them\n",
    "loc = \"./VidsForUpload/\"\n",
    "\n",
    "# Initialise the loop\n",
    "i = 0\n",
    "\n",
    "# Loop through files and load the videos and combine into a list\n",
    "while i < len(vids_to_download):\n",
    "    # Store files as form vid_09.mp4 etc...\n",
    "    filename = \"vid_\" + f'{i:02d}' + \".mp4\"\n",
    "    # Return video url\n",
    "    vid_url = vids_to_download[i]\n",
    "    # Combine the location and filename to get save location\n",
    "    save_location = loc + filename\n",
    "    \n",
    "    # Get the link for the video download\n",
    "    conn.request(\"GET\",\n",
    "                 vid_url,\n",
    "                 headers=headers)\n",
    "    \n",
    "    res = conn.getresponse()\n",
    "    data = res.read()\n",
    "    \n",
    "    # Return the HQ download link\n",
    "    HQ_url = json.loads(data.decode(\"utf-8\"))['video_url_HQ']\n",
    "    url_link = HQ_url\n",
    "    \n",
    "    # Download the file from the link\n",
    "    urllib.request.urlretrieve(url_link, save_location) \n",
    "    i = i + 1"
   ]
  },
  {
   "cell_type": "markdown",
   "id": "389a44bc",
   "metadata": {},
   "source": [
    "## Combine Videos and Save"
   ]
  },
  {
   "cell_type": "markdown",
   "id": "fdc8073e",
   "metadata": {},
   "source": [
    "Keep any files stored in selected directory which are of the usual type. This is done as within a sample of videos downloaded from TikTok, the majority were MP4 but one was MOV."
   ]
  },
  {
   "cell_type": "code",
   "execution_count": null,
   "id": "b74605f3",
   "metadata": {},
   "outputs": [],
   "source": [
    "# Selected folder containing sample videos\n",
    "mypath = \"./VidsForUpload/\"\n",
    "usual_types = (\"MP4\", \"MOV\", \"WMV\", \"AVI\", \"AVCHD\",\n",
    "               \"FLV\", \"F4V\", \"SWF\", \"MKV\", \"WEBM\", \"HTML5\",\n",
    "              \"mp4\")\n",
    "\n",
    "# Get the files then filter them so only those ending with above are kept.\n",
    "video_files = [f for f in listdir(mypath) if isfile(join(mypath, f))]\n",
    "video_files = [val for val in video_files if val.endswith(usual_types)]"
   ]
  },
  {
   "cell_type": "markdown",
   "id": "bf0ceaaa",
   "metadata": {},
   "source": [
    "The following appends all videos in the location together. This may change so that i can add directly from URL without saving the videos to my harddrive."
   ]
  },
  {
   "cell_type": "code",
   "execution_count": null,
   "id": "bc7aa213",
   "metadata": {},
   "outputs": [],
   "source": [
    "# Start the loop at 0 and create empty list the length of the files\n",
    "i = 0\n",
    "clips = list(range(len(video_files)))\n",
    "\n",
    "# Loop through files and load the videos and combine into a list\n",
    "while i < len(video_files):\n",
    "    clips[i] = VideoFileClip(mypath + video_files[i])\n",
    "    i = i + 1\n",
    "\n",
    "# Combine all the videos together\n",
    "combined_vids = concatenate_videoclips(clips)"
   ]
  },
  {
   "cell_type": "code",
   "execution_count": null,
   "id": "df3c692e",
   "metadata": {},
   "outputs": [],
   "source": [
    "# Write the video\n",
    "combined_vids.write_videofile(\"video_for_upload.mp4\")"
   ]
  }
 ],
 "metadata": {
  "kernelspec": {
   "display_name": "Python 3 (ipykernel)",
   "language": "python",
   "name": "python3"
  },
  "language_info": {
   "codemirror_mode": {
    "name": "ipython",
    "version": 3
   },
   "file_extension": ".py",
   "mimetype": "text/x-python",
   "name": "python",
   "nbconvert_exporter": "python",
   "pygments_lexer": "ipython3",
   "version": "3.10.9"
  }
 },
 "nbformat": 4,
 "nbformat_minor": 5
}
