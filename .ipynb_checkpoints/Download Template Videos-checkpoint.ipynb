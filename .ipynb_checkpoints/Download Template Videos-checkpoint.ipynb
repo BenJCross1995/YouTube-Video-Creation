{
 "cells": [
  {
   "cell_type": "markdown",
   "id": "e88d89c7",
   "metadata": {},
   "source": [
    "# Video Creation Script"
   ]
  },
  {
   "cell_type": "code",
   "execution_count": 5,
   "id": "92c9d9ac",
   "metadata": {},
   "outputs": [],
   "source": [
    "import os\n",
    "import sys\n",
    "\n",
    "# YouTube certificates not working on Mac but this code fixed it\n",
    "import ssl\n",
    "ssl._create_default_https_context = ssl._create_unverified_context\n",
    "\n",
    "if sys.platform == \"darwin\":\n",
    "    os.environ[\"IMAGEIO_FFMPEG_EXE\"] = \"ffmpeg\""
   ]
  },
  {
   "cell_type": "code",
   "execution_count": 6,
   "id": "ac13db90",
   "metadata": {},
   "outputs": [],
   "source": [
    "# Import all required modules\n",
    "import pandas as pd\n",
    "import random\n",
    "from pytube import YouTube\n",
    "from moviepy.editor import *\n",
    "from PIL import Image # Resizing thumbnail"
   ]
  },
  {
   "cell_type": "code",
   "execution_count": 3,
   "id": "4e00ffde",
   "metadata": {},
   "outputs": [],
   "source": [
    "# Need to get the filetype and filename for different systems\n",
    "if sys.platform == 'win32':\n",
    "    file_type = 'mp4'\n",
    "    file_name = 'audio.mp3'\n",
    "elif sys.platform == 'darwin':\n",
    "    file_type = 'mp4'\n",
    "    file_name = 'audio.aac'"
   ]
  },
  {
   "cell_type": "code",
   "execution_count": null,
   "id": "123a0f8c",
   "metadata": {},
   "outputs": [],
   "source": [
    "file_name"
   ]
  },
  {
   "cell_type": "markdown",
   "id": "fe043c40",
   "metadata": {},
   "source": [
    "### Video and Audio Selection"
   ]
  },
  {
   "cell_type": "code",
   "execution_count": null,
   "id": "4caa354c",
   "metadata": {},
   "outputs": [],
   "source": [
    "# Import the videos from working directory\n",
    "audio_options = pd.read_csv(\"NoCopyrightSounds - WithDescriptions.csv\")\n",
    "vid_data = pd.read_csv(\"Background Video Info.csv\")"
   ]
  },
  {
   "cell_type": "code",
   "execution_count": null,
   "id": "a64eee64",
   "metadata": {},
   "outputs": [],
   "source": [
    "# Choose a random audio file and pull its youtube URL\n",
    "selected_audio = audio_options.sample()\n",
    "audio_url = selected_audio['videoURL'].iloc[0]"
   ]
  },
  {
   "cell_type": "code",
   "execution_count": null,
   "id": "a512d3d3",
   "metadata": {
    "scrolled": true
   },
   "outputs": [],
   "source": [
    "# Want to return length of audio, same as for the video files\n",
    "audio_length = 0\n",
    "while audio_length == 0:\n",
    "        audio_yt = YouTube(audio_url)\n",
    "        try:\n",
    "            audio_length = audio_yt.length\n",
    "        except:\n",
    "            audio_length = 0"
   ]
  },
  {
   "cell_type": "code",
   "execution_count": null,
   "id": "d3a86ecf",
   "metadata": {},
   "outputs": [],
   "source": [
    "# Filter videos for only videos longer than the selected audio file\n",
    "video_options = vid_data[vid_data[\"video_length\"] > audio_length] \n",
    "\n",
    "# Take a sample video\n",
    "video_url = video_options.sample()['video_url'].iloc[0]\n",
    "\n",
    "# Now we want to find the YouTube object of the selected video, using\n",
    "# The same loop method as done for the audio files\n",
    "\n",
    "vid_length = 0\n",
    "while vid_length == 0:\n",
    "    selected_video = YouTube(video_url)\n",
    "    try:\n",
    "        vid_length = selected_video.length\n",
    "    except:\n",
    "        vid_length = 0"
   ]
  },
  {
   "cell_type": "code",
   "execution_count": null,
   "id": "4cd56d95",
   "metadata": {},
   "outputs": [],
   "source": [
    "# selected_video.watch_url"
   ]
  },
  {
   "cell_type": "code",
   "execution_count": null,
   "id": "14d6fa02",
   "metadata": {},
   "outputs": [],
   "source": [
    "# audio_yt.watch_url"
   ]
  },
  {
   "cell_type": "markdown",
   "id": "cf79f104",
   "metadata": {},
   "source": [
    "### Video and Audio Download"
   ]
  },
  {
   "cell_type": "code",
   "execution_count": null,
   "id": "3f352988",
   "metadata": {},
   "outputs": [],
   "source": [
    "# Return the start and end points for background video. Want video to start\n",
    "# at any point between 0s and what will get full audio file included\n",
    "start_point = random.randint(0, selected_video.length - audio_yt.length -1)\n",
    "end_point = start_point + audio_yt.length"
   ]
  },
  {
   "cell_type": "code",
   "execution_count": null,
   "id": "bcf98546",
   "metadata": {
    "scrolled": true
   },
   "outputs": [],
   "source": [
    "# Download the audio and video files to audio.mp3 and video_no_audio.mp4 in working directory\n",
    "audio_yt.streams.filter(only_audio = True, file_extension = 'mp4').first().download(filename=\"audio.mp3\")\n",
    "selected_video.streams.filter(only_video = True, file_extension = 'mp4').first().download(filename = \"video_no_audio.mp4\");"
   ]
  },
  {
   "cell_type": "markdown",
   "id": "c6605ede",
   "metadata": {},
   "source": [
    "### Video Creation"
   ]
  },
  {
   "cell_type": "code",
   "execution_count": 7,
   "id": "49d418e0",
   "metadata": {
    "scrolled": false
   },
   "outputs": [
    {
     "ename": "FileNotFoundError",
     "evalue": "[Errno 2] No such file or directory: 'ffmpeg'",
     "output_type": "error",
     "traceback": [
      "\u001b[0;31m---------------------------------------------------------------------------\u001b[0m",
      "\u001b[0;31mFileNotFoundError\u001b[0m                         Traceback (most recent call last)",
      "Cell \u001b[0;32mIn[7], line 2\u001b[0m\n\u001b[1;32m      1\u001b[0m \u001b[38;5;66;03m# Read the audio and video files\u001b[39;00m\n\u001b[0;32m----> 2\u001b[0m video_clip \u001b[38;5;241m=\u001b[39m \u001b[43mVideoFileClip\u001b[49m\u001b[43m(\u001b[49m\u001b[38;5;124;43m\"\u001b[39;49m\u001b[38;5;124;43mvideo_no_audio.mp4\u001b[39;49m\u001b[38;5;124;43m\"\u001b[39;49m\u001b[43m)\u001b[49m\n\u001b[1;32m      3\u001b[0m audio_clip \u001b[38;5;241m=\u001b[39m AudioFileClip(\u001b[38;5;124m\"\u001b[39m\u001b[38;5;124maudio.mp3\u001b[39m\u001b[38;5;124m\"\u001b[39m)\n\u001b[1;32m      5\u001b[0m \u001b[38;5;66;03m# Create a video from chosen start and endpoints\u001b[39;00m\n\u001b[1;32m      6\u001b[0m \u001b[38;5;66;03m# video_clip = video_clip.subclip(0, audio_length) - KEEPING IN CASE I REVERT BACK\u001b[39;00m\n",
      "File \u001b[0;32m/Library/Frameworks/Python.framework/Versions/3.11/lib/python3.11/site-packages/moviepy/video/io/VideoFileClip.py:88\u001b[0m, in \u001b[0;36mVideoFileClip.__init__\u001b[0;34m(self, filename, has_mask, audio, audio_buffersize, target_resolution, resize_algorithm, audio_fps, audio_nbytes, verbose, fps_source)\u001b[0m\n\u001b[1;32m     86\u001b[0m \u001b[38;5;66;03m# Make a reader\u001b[39;00m\n\u001b[1;32m     87\u001b[0m pix_fmt \u001b[38;5;241m=\u001b[39m \u001b[38;5;124m\"\u001b[39m\u001b[38;5;124mrgba\u001b[39m\u001b[38;5;124m\"\u001b[39m \u001b[38;5;28;01mif\u001b[39;00m has_mask \u001b[38;5;28;01melse\u001b[39;00m \u001b[38;5;124m\"\u001b[39m\u001b[38;5;124mrgb24\u001b[39m\u001b[38;5;124m\"\u001b[39m\n\u001b[0;32m---> 88\u001b[0m \u001b[38;5;28mself\u001b[39m\u001b[38;5;241m.\u001b[39mreader \u001b[38;5;241m=\u001b[39m \u001b[43mFFMPEG_VideoReader\u001b[49m\u001b[43m(\u001b[49m\u001b[43mfilename\u001b[49m\u001b[43m,\u001b[49m\u001b[43m \u001b[49m\u001b[43mpix_fmt\u001b[49m\u001b[38;5;241;43m=\u001b[39;49m\u001b[43mpix_fmt\u001b[49m\u001b[43m,\u001b[49m\n\u001b[1;32m     89\u001b[0m \u001b[43m                                 \u001b[49m\u001b[43mtarget_resolution\u001b[49m\u001b[38;5;241;43m=\u001b[39;49m\u001b[43mtarget_resolution\u001b[49m\u001b[43m,\u001b[49m\n\u001b[1;32m     90\u001b[0m \u001b[43m                                 \u001b[49m\u001b[43mresize_algo\u001b[49m\u001b[38;5;241;43m=\u001b[39;49m\u001b[43mresize_algorithm\u001b[49m\u001b[43m,\u001b[49m\n\u001b[1;32m     91\u001b[0m \u001b[43m                                 \u001b[49m\u001b[43mfps_source\u001b[49m\u001b[38;5;241;43m=\u001b[39;49m\u001b[43mfps_source\u001b[49m\u001b[43m)\u001b[49m\n\u001b[1;32m     93\u001b[0m \u001b[38;5;66;03m# Make some of the reader's attributes accessible from the clip\u001b[39;00m\n\u001b[1;32m     94\u001b[0m \u001b[38;5;28mself\u001b[39m\u001b[38;5;241m.\u001b[39mduration \u001b[38;5;241m=\u001b[39m \u001b[38;5;28mself\u001b[39m\u001b[38;5;241m.\u001b[39mreader\u001b[38;5;241m.\u001b[39mduration\n",
      "File \u001b[0;32m/Library/Frameworks/Python.framework/Versions/3.11/lib/python3.11/site-packages/moviepy/video/io/ffmpeg_reader.py:35\u001b[0m, in \u001b[0;36mFFMPEG_VideoReader.__init__\u001b[0;34m(self, filename, print_infos, bufsize, pix_fmt, check_duration, target_resolution, resize_algo, fps_source)\u001b[0m\n\u001b[1;32m     33\u001b[0m \u001b[38;5;28mself\u001b[39m\u001b[38;5;241m.\u001b[39mfilename \u001b[38;5;241m=\u001b[39m filename\n\u001b[1;32m     34\u001b[0m \u001b[38;5;28mself\u001b[39m\u001b[38;5;241m.\u001b[39mproc \u001b[38;5;241m=\u001b[39m \u001b[38;5;28;01mNone\u001b[39;00m\n\u001b[0;32m---> 35\u001b[0m infos \u001b[38;5;241m=\u001b[39m \u001b[43mffmpeg_parse_infos\u001b[49m\u001b[43m(\u001b[49m\u001b[43mfilename\u001b[49m\u001b[43m,\u001b[49m\u001b[43m \u001b[49m\u001b[43mprint_infos\u001b[49m\u001b[43m,\u001b[49m\u001b[43m \u001b[49m\u001b[43mcheck_duration\u001b[49m\u001b[43m,\u001b[49m\n\u001b[1;32m     36\u001b[0m \u001b[43m                           \u001b[49m\u001b[43mfps_source\u001b[49m\u001b[43m)\u001b[49m\n\u001b[1;32m     37\u001b[0m \u001b[38;5;28mself\u001b[39m\u001b[38;5;241m.\u001b[39mfps \u001b[38;5;241m=\u001b[39m infos[\u001b[38;5;124m'\u001b[39m\u001b[38;5;124mvideo_fps\u001b[39m\u001b[38;5;124m'\u001b[39m]\n\u001b[1;32m     38\u001b[0m \u001b[38;5;28mself\u001b[39m\u001b[38;5;241m.\u001b[39msize \u001b[38;5;241m=\u001b[39m infos[\u001b[38;5;124m'\u001b[39m\u001b[38;5;124mvideo_size\u001b[39m\u001b[38;5;124m'\u001b[39m]\n",
      "File \u001b[0;32m/Library/Frameworks/Python.framework/Versions/3.11/lib/python3.11/site-packages/moviepy/video/io/ffmpeg_reader.py:257\u001b[0m, in \u001b[0;36mffmpeg_parse_infos\u001b[0;34m(filename, print_infos, check_duration, fps_source)\u001b[0m\n\u001b[1;32m    254\u001b[0m \u001b[38;5;28;01mif\u001b[39;00m os\u001b[38;5;241m.\u001b[39mname \u001b[38;5;241m==\u001b[39m \u001b[38;5;124m\"\u001b[39m\u001b[38;5;124mnt\u001b[39m\u001b[38;5;124m\"\u001b[39m:\n\u001b[1;32m    255\u001b[0m     popen_params[\u001b[38;5;124m\"\u001b[39m\u001b[38;5;124mcreationflags\u001b[39m\u001b[38;5;124m\"\u001b[39m] \u001b[38;5;241m=\u001b[39m \u001b[38;5;241m0x08000000\u001b[39m\n\u001b[0;32m--> 257\u001b[0m proc \u001b[38;5;241m=\u001b[39m \u001b[43msp\u001b[49m\u001b[38;5;241;43m.\u001b[39;49m\u001b[43mPopen\u001b[49m\u001b[43m(\u001b[49m\u001b[43mcmd\u001b[49m\u001b[43m,\u001b[49m\u001b[43m \u001b[49m\u001b[38;5;241;43m*\u001b[39;49m\u001b[38;5;241;43m*\u001b[39;49m\u001b[43mpopen_params\u001b[49m\u001b[43m)\u001b[49m\n\u001b[1;32m    258\u001b[0m (output, error) \u001b[38;5;241m=\u001b[39m proc\u001b[38;5;241m.\u001b[39mcommunicate()\n\u001b[1;32m    259\u001b[0m infos \u001b[38;5;241m=\u001b[39m error\u001b[38;5;241m.\u001b[39mdecode(\u001b[38;5;124m'\u001b[39m\u001b[38;5;124mutf8\u001b[39m\u001b[38;5;124m'\u001b[39m)\n",
      "File \u001b[0;32m/Library/Frameworks/Python.framework/Versions/3.11/lib/python3.11/subprocess.py:1024\u001b[0m, in \u001b[0;36mPopen.__init__\u001b[0;34m(self, args, bufsize, executable, stdin, stdout, stderr, preexec_fn, close_fds, shell, cwd, env, universal_newlines, startupinfo, creationflags, restore_signals, start_new_session, pass_fds, user, group, extra_groups, encoding, errors, text, umask, pipesize, process_group)\u001b[0m\n\u001b[1;32m   1020\u001b[0m         \u001b[38;5;28;01mif\u001b[39;00m \u001b[38;5;28mself\u001b[39m\u001b[38;5;241m.\u001b[39mtext_mode:\n\u001b[1;32m   1021\u001b[0m             \u001b[38;5;28mself\u001b[39m\u001b[38;5;241m.\u001b[39mstderr \u001b[38;5;241m=\u001b[39m io\u001b[38;5;241m.\u001b[39mTextIOWrapper(\u001b[38;5;28mself\u001b[39m\u001b[38;5;241m.\u001b[39mstderr,\n\u001b[1;32m   1022\u001b[0m                     encoding\u001b[38;5;241m=\u001b[39mencoding, errors\u001b[38;5;241m=\u001b[39merrors)\n\u001b[0;32m-> 1024\u001b[0m     \u001b[38;5;28;43mself\u001b[39;49m\u001b[38;5;241;43m.\u001b[39;49m\u001b[43m_execute_child\u001b[49m\u001b[43m(\u001b[49m\u001b[43margs\u001b[49m\u001b[43m,\u001b[49m\u001b[43m \u001b[49m\u001b[43mexecutable\u001b[49m\u001b[43m,\u001b[49m\u001b[43m \u001b[49m\u001b[43mpreexec_fn\u001b[49m\u001b[43m,\u001b[49m\u001b[43m \u001b[49m\u001b[43mclose_fds\u001b[49m\u001b[43m,\u001b[49m\n\u001b[1;32m   1025\u001b[0m \u001b[43m                        \u001b[49m\u001b[43mpass_fds\u001b[49m\u001b[43m,\u001b[49m\u001b[43m \u001b[49m\u001b[43mcwd\u001b[49m\u001b[43m,\u001b[49m\u001b[43m \u001b[49m\u001b[43menv\u001b[49m\u001b[43m,\u001b[49m\n\u001b[1;32m   1026\u001b[0m \u001b[43m                        \u001b[49m\u001b[43mstartupinfo\u001b[49m\u001b[43m,\u001b[49m\u001b[43m \u001b[49m\u001b[43mcreationflags\u001b[49m\u001b[43m,\u001b[49m\u001b[43m \u001b[49m\u001b[43mshell\u001b[49m\u001b[43m,\u001b[49m\n\u001b[1;32m   1027\u001b[0m \u001b[43m                        \u001b[49m\u001b[43mp2cread\u001b[49m\u001b[43m,\u001b[49m\u001b[43m \u001b[49m\u001b[43mp2cwrite\u001b[49m\u001b[43m,\u001b[49m\n\u001b[1;32m   1028\u001b[0m \u001b[43m                        \u001b[49m\u001b[43mc2pread\u001b[49m\u001b[43m,\u001b[49m\u001b[43m \u001b[49m\u001b[43mc2pwrite\u001b[49m\u001b[43m,\u001b[49m\n\u001b[1;32m   1029\u001b[0m \u001b[43m                        \u001b[49m\u001b[43merrread\u001b[49m\u001b[43m,\u001b[49m\u001b[43m \u001b[49m\u001b[43merrwrite\u001b[49m\u001b[43m,\u001b[49m\n\u001b[1;32m   1030\u001b[0m \u001b[43m                        \u001b[49m\u001b[43mrestore_signals\u001b[49m\u001b[43m,\u001b[49m\n\u001b[1;32m   1031\u001b[0m \u001b[43m                        \u001b[49m\u001b[43mgid\u001b[49m\u001b[43m,\u001b[49m\u001b[43m \u001b[49m\u001b[43mgids\u001b[49m\u001b[43m,\u001b[49m\u001b[43m \u001b[49m\u001b[43muid\u001b[49m\u001b[43m,\u001b[49m\u001b[43m \u001b[49m\u001b[43mumask\u001b[49m\u001b[43m,\u001b[49m\n\u001b[1;32m   1032\u001b[0m \u001b[43m                        \u001b[49m\u001b[43mstart_new_session\u001b[49m\u001b[43m,\u001b[49m\u001b[43m \u001b[49m\u001b[43mprocess_group\u001b[49m\u001b[43m)\u001b[49m\n\u001b[1;32m   1033\u001b[0m \u001b[38;5;28;01mexcept\u001b[39;00m:\n\u001b[1;32m   1034\u001b[0m     \u001b[38;5;66;03m# Cleanup if the child failed starting.\u001b[39;00m\n\u001b[1;32m   1035\u001b[0m     \u001b[38;5;28;01mfor\u001b[39;00m f \u001b[38;5;129;01min\u001b[39;00m \u001b[38;5;28mfilter\u001b[39m(\u001b[38;5;28;01mNone\u001b[39;00m, (\u001b[38;5;28mself\u001b[39m\u001b[38;5;241m.\u001b[39mstdin, \u001b[38;5;28mself\u001b[39m\u001b[38;5;241m.\u001b[39mstdout, \u001b[38;5;28mself\u001b[39m\u001b[38;5;241m.\u001b[39mstderr)):\n",
      "File \u001b[0;32m/Library/Frameworks/Python.framework/Versions/3.11/lib/python3.11/subprocess.py:1917\u001b[0m, in \u001b[0;36mPopen._execute_child\u001b[0;34m(self, args, executable, preexec_fn, close_fds, pass_fds, cwd, env, startupinfo, creationflags, shell, p2cread, p2cwrite, c2pread, c2pwrite, errread, errwrite, restore_signals, gid, gids, uid, umask, start_new_session, process_group)\u001b[0m\n\u001b[1;32m   1915\u001b[0m     \u001b[38;5;28;01mif\u001b[39;00m errno_num \u001b[38;5;241m!=\u001b[39m \u001b[38;5;241m0\u001b[39m:\n\u001b[1;32m   1916\u001b[0m         err_msg \u001b[38;5;241m=\u001b[39m os\u001b[38;5;241m.\u001b[39mstrerror(errno_num)\n\u001b[0;32m-> 1917\u001b[0m     \u001b[38;5;28;01mraise\u001b[39;00m child_exception_type(errno_num, err_msg, err_filename)\n\u001b[1;32m   1918\u001b[0m \u001b[38;5;28;01mraise\u001b[39;00m child_exception_type(err_msg)\n",
      "\u001b[0;31mFileNotFoundError\u001b[0m: [Errno 2] No such file or directory: 'ffmpeg'"
     ]
    }
   ],
   "source": [
    "# Read the audio and video files\n",
    "video_clip = VideoFileClip(\"video_no_audio.mp4\")\n",
    "audio_clip = AudioFileClip(\"audio.mp3\")\n",
    "\n",
    "# Create a video from chosen start and endpoints\n",
    "# video_clip = video_clip.subclip(0, audio_length) - KEEPING IN CASE I REVERT BACK\n",
    "video_clip = video_clip.subclip(start_point, end_point)\n",
    "\n",
    "# Code provided to make audio work on video\n",
    "new_audioclip = CompositeAudioClip([audio_clip])\n",
    "video_clip.audio = new_audioclip\n",
    "\n",
    "# Write the video to an mp4 file\n",
    "video_clip.write_videofile(\"video.mp4\")"
   ]
  },
  {
   "cell_type": "markdown",
   "id": "0598ba45",
   "metadata": {},
   "source": [
    "### Generate Description/Title"
   ]
  },
  {
   "cell_type": "code",
   "execution_count": null,
   "id": "7cb7bdee",
   "metadata": {},
   "outputs": [],
   "source": [
    "# I have added descriptions that videos ask us to add in Excel file\n",
    "audio_desc = selected_audio['desc_required'].iloc[0]"
   ]
  },
  {
   "cell_type": "code",
   "execution_count": null,
   "id": "4c7816dc",
   "metadata": {},
   "outputs": [],
   "source": [
    "video_description_NCS = ['Please like the video and subscribe to my channel 👉 https://www.youtube.com/channel/UCNYTzOGWt9pQdwDZImc8gMQ \\n\\n' +\n",
    "    'This channel combines Non-Copyright Audio and Non-Copyright Video using Python code! \\n\\n' +\n",
    "      'The channel for the audio is ' +  audio_yt.author + ' 👉 ' + audio_yt.channel_url +'\\n\\n' +\n",
    "      'The channel for the video is ' + selected_video.author + ' 👉 ' + selected_video.channel_url +'\\n\\n' +\n",
    "      'If you enjoy the content please subscribe to them! \\n\\n' +\n",
    "      'It was requested by ' + audio_yt.author + ' to include the following in the description; \\n\\n' +\n",
    "      '- - - - - - - - - - - - - - - - - - - - - - - - - - - - - - - - - - - - - - - -\\n' +\n",
    "      audio_desc + '\\n' +\n",
    "      '- - - - - - - - - - - - - - - - - - - - - - - - - - - - - - - - - - - - - - - -\\n']"
   ]
  },
  {
   "cell_type": "code",
   "execution_count": null,
   "id": "59220b95",
   "metadata": {
    "scrolled": false
   },
   "outputs": [],
   "source": [
    "print(video_description_NCS[0])"
   ]
  },
  {
   "cell_type": "code",
   "execution_count": null,
   "id": "73dd5b4a",
   "metadata": {},
   "outputs": [],
   "source": [
    "# from moviepy.config import change_settings\n",
    "# change_settings({\"IMAGEMAGICK_BINARY\": r\"C:\\Program Files\\ImageMagick-7.1.1-Q16-HDRI\\magick.exe\"})"
   ]
  },
  {
   "cell_type": "code",
   "execution_count": null,
   "id": "c874b8f9",
   "metadata": {},
   "outputs": [],
   "source": [
    "# Song title\n",
    "song_title = audio_yt.title\n",
    "\n",
    "print(song_title)"
   ]
  },
  {
   "cell_type": "markdown",
   "id": "b5546edf",
   "metadata": {},
   "source": [
    "## Create a Thumbnail"
   ]
  },
  {
   "cell_type": "code",
   "execution_count": null,
   "id": "d5a67c2c",
   "metadata": {},
   "outputs": [],
   "source": [
    "# Generate a text clip \n",
    "txt_clip = TextClip(song_title, fontsize = 75, color = 'white') \n",
    "    \n",
    "# setting position of text in the center and duration will be 10 seconds \n",
    "txt_clip = txt_clip.set_pos((10,950)).set_duration(audio_yt.length) \n",
    "    \n",
    "# Overlay the text clip on the first video clip \n",
    "thumb = CompositeVideoClip([video_clip, txt_clip]) \n",
    "\n",
    "# Save the thumbnail\n",
    "thumb.save_frame(\"thumbnail.png\", t = random.randint(0, audio_yt.length))\n",
    "\n",
    "%matplotlib inline\n",
    "import matplotlib.pyplot as plt\n",
    "import matplotlib.image as mpimg\n",
    "img = mpimg.imread('thumbnail.png')\n",
    "imgplot = plt.imshow(img)\n",
    "plt.show()"
   ]
  },
  {
   "cell_type": "code",
   "execution_count": null,
   "id": "34172313",
   "metadata": {},
   "outputs": [],
   "source": [
    "# Now we want to convert the thumbnail into a resized thumbnail.\n",
    "\n",
    "# Open the image\n",
    "image = Image.open(r\"thumbnail.png\")\n",
    "\n",
    "# 1280 × 720 pixels - thumbnail size\n",
    "max_image_size = (1280, 720)\n",
    "\n",
    "# Set the image size to the max\n",
    "image.thumbnail(max_image_size)\n",
    "  \n",
    "# creating thumbnail\n",
    "image.save('thumbnail resized.png')"
   ]
  }
 ],
 "metadata": {
  "kernelspec": {
   "display_name": "Python 3 (ipykernel)",
   "language": "python",
   "name": "python3"
  },
  "language_info": {
   "codemirror_mode": {
    "name": "ipython",
    "version": 3
   },
   "file_extension": ".py",
   "mimetype": "text/x-python",
   "name": "python",
   "nbconvert_exporter": "python",
   "pygments_lexer": "ipython3",
   "version": "3.11.3"
  }
 },
 "nbformat": 4,
 "nbformat_minor": 5
}
