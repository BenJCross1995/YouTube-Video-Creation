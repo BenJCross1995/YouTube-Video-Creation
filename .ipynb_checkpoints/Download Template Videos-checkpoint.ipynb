{
 "cells": [
  {
   "cell_type": "markdown",
   "id": "0578194c",
   "metadata": {},
   "source": [
    "# Video Creation Script"
   ]
  },
  {
   "cell_type": "code",
   "execution_count": 1,
   "id": "20efcca1",
   "metadata": {},
   "outputs": [],
   "source": [
    "# Import all required modules\n",
    "import pandas as pd\n",
    "import random\n",
    "from pytube import YouTube\n",
    "from moviepy.editor import *"
   ]
  },
  {
   "cell_type": "markdown",
   "id": "94c00560",
   "metadata": {},
   "source": [
    "### Video and Audio Selection"
   ]
  },
  {
   "cell_type": "code",
   "execution_count": 2,
   "id": "bb4d0f33",
   "metadata": {},
   "outputs": [],
   "source": [
    "# Import the videos from working directory\n",
    "audio_options = pd.read_csv(\"NoCopyrightSounds - WithDescriptions.csv\")\n",
    "vids = pd.read_csv(\"Background Video Links.csv\")"
   ]
  },
  {
   "cell_type": "code",
   "execution_count": 3,
   "id": "13aff5d5",
   "metadata": {},
   "outputs": [],
   "source": [
    "# Choose a random audio file and pull its youtube URL\n",
    "selected_audio = audio_options.sample()\n",
    "audio_url = selected_audio['videoURL'].iloc[0]"
   ]
  },
  {
   "cell_type": "code",
   "execution_count": 4,
   "id": "051bd906",
   "metadata": {},
   "outputs": [],
   "source": [
    "# Here we aim to get the YouTube objects and video lengths of all background\n",
    "# video options.\n",
    "vid_length = []\n",
    "video_yt = []\n",
    "vid_time = 0\n",
    "\n",
    "# A loop is used because sometime YouTube function fails to connect to the video\n",
    "# so if we set length = 0 when this occurs we can loop videos until the object is\n",
    "# returned. Once we have the object we have all information about the video.\n",
    "for vid in vids['video_url']:\n",
    "    while vid_time == 0:\n",
    "        vid_object = YouTube(vid)\n",
    "        try:\n",
    "            vid_time = vid_object.length\n",
    "        except:\n",
    "            vid_time = 0\n",
    "    \n",
    "    # Once we have connection then append the time and the object itself\n",
    "    vid_length.append(vid_time)\n",
    "    video_yt.append(vid_object)\n",
    "    # Set the vid_time back to zero below to begin looking at next video.\n",
    "    vid_time = 0 \n",
    "        \n",
    "vid_length = pd.DataFrame({'video_length':vid_length})"
   ]
  },
  {
   "cell_type": "code",
   "execution_count": 5,
   "id": "a1d9fd24",
   "metadata": {},
   "outputs": [],
   "source": [
    "# Create a dataframe out of the video information and extract the video id\n",
    "vid_data = pd.DataFrame({'video_url':vids['video_url'], 'video_yt':video_yt})\n",
    "vid_data['video_id'] = vid_data['video_url'].str.extract(r'v=(\\w+)')\n",
    "vid_data = pd.concat([vid_data, vid_length], axis=1)"
   ]
  },
  {
   "cell_type": "code",
   "execution_count": 6,
   "id": "32f2630e",
   "metadata": {
    "scrolled": true
   },
   "outputs": [],
   "source": [
    "# Want to return length of audio, same as for the video files\n",
    "audio_length = 0\n",
    "while audio_length == 0:\n",
    "        audio_yt = YouTube(audio_url)\n",
    "        try:\n",
    "            audio_length = audio_yt.length\n",
    "        except:\n",
    "            audio_length = 0"
   ]
  },
  {
   "cell_type": "code",
   "execution_count": 7,
   "id": "b2d5260f",
   "metadata": {},
   "outputs": [],
   "source": [
    "# Filter videos for only videos longer than the selected audio file\n",
    "video_options = vid_data[vid_data[\"video_length\"] > audio_length] \n",
    "\n",
    "# Take a sample video\n",
    "selected_video = video_options.sample()['video_yt'].iloc[0]"
   ]
  },
  {
   "cell_type": "code",
   "execution_count": 8,
   "id": "bf83550e",
   "metadata": {},
   "outputs": [],
   "source": [
    "# selected_video.watch_url"
   ]
  },
  {
   "cell_type": "code",
   "execution_count": 9,
   "id": "b3bd179d",
   "metadata": {},
   "outputs": [],
   "source": [
    "# audio_yt.watch_url"
   ]
  },
  {
   "cell_type": "markdown",
   "id": "d0f9ba54",
   "metadata": {},
   "source": [
    "### Video and Audio Download"
   ]
  },
  {
   "cell_type": "code",
   "execution_count": 10,
   "id": "85d73efc",
   "metadata": {},
   "outputs": [],
   "source": [
    "# Return the start and end points for background video. Want video to start\n",
    "# at any point between 0s and what will get full audio file included\n",
    "start_point = random.randint(0, selected_video.length - audio_yt.length -1)\n",
    "end_point = start_point + audio_yt.length"
   ]
  },
  {
   "cell_type": "code",
   "execution_count": 11,
   "id": "cc7b79f9",
   "metadata": {
    "scrolled": true
   },
   "outputs": [],
   "source": [
    "# Download the audio and video files to audio.mp3 and video_no_audio.mp4 in working directory\n",
    "audio_yt.streams.filter(only_audio = True, file_extension = 'mp4').first().download(filename=\"audio.mp3\")\n",
    "selected_video.streams.filter(only_video = True, file_extension = 'mp4').first().download(filename = \"video_no_audio.mp4\");"
   ]
  },
  {
   "cell_type": "markdown",
   "id": "eb6784fc",
   "metadata": {},
   "source": [
    "### Video Creation"
   ]
  },
  {
   "cell_type": "code",
   "execution_count": 12,
   "id": "f1412112",
   "metadata": {
    "scrolled": false
   },
   "outputs": [
    {
     "name": "stdout",
     "output_type": "stream",
     "text": [
      "Moviepy - Building video video.mp4.\n",
      "MoviePy - Writing audio in videoTEMP_MPY_wvf_snd.mp3\n"
     ]
    },
    {
     "name": "stderr",
     "output_type": "stream",
     "text": [
      "                                                                                                                       \r"
     ]
    },
    {
     "name": "stdout",
     "output_type": "stream",
     "text": [
      "MoviePy - Done.\n",
      "Moviepy - Writing video video.mp4\n",
      "\n"
     ]
    },
    {
     "name": "stderr",
     "output_type": "stream",
     "text": [
      "                                                                                                                       \r"
     ]
    },
    {
     "name": "stdout",
     "output_type": "stream",
     "text": [
      "Moviepy - Done !\n",
      "Moviepy - video ready video.mp4\n"
     ]
    }
   ],
   "source": [
    "# Read the audio and video files\n",
    "video_clip = VideoFileClip(\"video_no_audio.mp4\")\n",
    "audio_clip = AudioFileClip(\"audio.mp3\")\n",
    "\n",
    "# Create a video from chosen start and endpoints\n",
    "# video_clip = video_clip.subclip(0, audio_length) - KEEPING IN CASE I REVERT BACK\n",
    "video_clip = video_clip.subclip(start_point, end_point)\n",
    "\n",
    "# Code provided to make audio work on video\n",
    "new_audioclip = CompositeAudioClip([audio_clip])\n",
    "video_clip.audio = new_audioclip\n",
    "\n",
    "# Write the video to an mp4 file\n",
    "video_clip.write_videofile(\"video.mp4\")"
   ]
  },
  {
   "cell_type": "markdown",
   "id": "c20c331b",
   "metadata": {},
   "source": [
    "### Generate Description"
   ]
  },
  {
   "cell_type": "code",
   "execution_count": 13,
   "id": "8ffef86c",
   "metadata": {},
   "outputs": [],
   "source": [
    "# I have added descriptions that videos ask us to add in Excel file\n",
    "audio_desc = selected_audio['desc_required'].iloc[0]"
   ]
  },
  {
   "cell_type": "code",
   "execution_count": 21,
   "id": "38894f07",
   "metadata": {},
   "outputs": [],
   "source": [
    "video_description_NCS = ['Please like the video and subscribe to my channel 👉 https://www.youtube.com/channel/UCYRET29BUoVo6KXKRRLlwdw \\n\\n' +\n",
    "    'This channel combines Non-Copyright Audio and Non-Copyright Video using Python code! \\n\\n' +\n",
    "      'The channel for the audio is ' +  audio_yt.author + ' 👉 ' + audio_yt.channel_url +'\\n\\n' +\n",
    "      'The channel for the video is ' + selected_video.author + ' 👉 ' + selected_video.channel_url +'\\n\\n' +\n",
    "      'If you enjoy the content please subscribe to them! \\n\\n' +\n",
    "      'It was requested by ' + audio_yt.author + ' to include the following in the description; \\n\\n' +\n",
    "      '- - - - - - - - - - - - - - - - - - - - - - - - - - - - - - - - - - - - - - - -\\n' +\n",
    "      audio_desc + '\\n' +\n",
    "      '- - - - - - - - - - - - - - - - - - - - - - - - - - - - - - - - - - - - - - - -\\n']"
   ]
  },
  {
   "cell_type": "code",
   "execution_count": 23,
   "id": "13a8ffce",
   "metadata": {},
   "outputs": [
    {
     "data": {
      "text/plain": [
       "'Please like the video and subscribe to my channel 👉 https://www.youtube.com/channel/UCYRET29BUoVo6KXKRRLlwdw \\n\\nThis channel combines Non-Copyright Audio and Non-Copyright Video using Python code! \\n\\nThe channel for the audio is NoCopyrightSounds 👉 https://www.youtube.com/channel/UC_aEa8K-EOJ3D6gOs7HcyNg\\n\\nThe channel for the video is HikingFex 👉 https://www.youtube.com/channel/UCchSW3F-KzGmuHhXXSySjTw\\n\\nIf you enjoy the content please subscribe to them! \\n\\nIt was requested by NoCopyrightSounds to include the following in the description; \\n\\n- - - - - - - - - - - - - - - - - - - - - - - - - - - - - - - - - - - - - - - -\\nTrack: Sub Urban - Cradles [NCS Release]\\nMusic provided by NoCopyrightSounds.\\nWatch: https://youtu.be/Hn4sfC2PbhI\\nFree Download / Stream: http://ncs.io/CradlesYO\\n- - - - - - - - - - - - - - - - - - - - - - - - - - - - - - - - - - - - - - - -\\n'"
      ]
     },
     "execution_count": 23,
     "metadata": {},
     "output_type": "execute_result"
    }
   ],
   "source": [
    "video_description_NCS[0]"
   ]
  },
  {
   "cell_type": "code",
   "execution_count": 111,
   "id": "ee4d0c8b",
   "metadata": {},
   "outputs": [
    {
     "name": "stdout",
     "output_type": "stream",
     "text": [
      "Please like the video and subscribe to my channel 👉 https://www.youtube.com/channel/UCYRET29BUoVo6KXKRRLlwdw \n",
      "\n",
      "This channel combines Non-Copyright Audio and Non-Copyright Video using Python code! \n",
      "\n",
      "The channel for the audio is NoCopyrightSounds 👉 https://www.youtube.com/channel/UC_aEa8K-EOJ3D6gOs7HcyNg\n",
      "\n",
      "The channel for the video is HikingFex 👉 https://www.youtube.com/channel/UCchSW3F-KzGmuHhXXSySjTw\n",
      "\n",
      "If you enjoy the content please subscribe to them! \n",
      "\n",
      "It was requested by NoCopyrightSounds to include the following in the description; \n",
      "\n",
      "- - - - - - - - - - - - - - - - - - - - - - - - - - - - - - - - - - - - - - - -\n",
      "Track: Sub Urban - Cradles [NCS Release]\n",
      "Music provided by NoCopyrightSounds.\n",
      "Watch: https://youtu.be/Hn4sfC2PbhI\n",
      "Free Download / Stream: http://ncs.io/CradlesYO\n",
      "- - - - - - - - - - - - - - - - - - - - - - - - - - - - - - - - - - - - - - - -\n",
      "\n"
     ]
    }
   ],
   "source": [
    "print(video_description_NCS[0])"
   ]
  },
  {
   "cell_type": "code",
   "execution_count": 127,
   "id": "940e1920",
   "metadata": {},
   "outputs": [
    {
     "ename": "ModuleNotFoundError",
     "evalue": "No module named 'google_oauth_oauthlib'",
     "output_type": "error",
     "traceback": [
      "\u001b[1;31m---------------------------------------------------------------------------\u001b[0m",
      "\u001b[1;31mModuleNotFoundError\u001b[0m                       Traceback (most recent call last)",
      "Cell \u001b[1;32mIn[127], line 2\u001b[0m\n\u001b[0;32m      1\u001b[0m \u001b[38;5;28;01mimport\u001b[39;00m \u001b[38;5;21;01mgoogle\u001b[39;00m\u001b[38;5;21;01m.\u001b[39;00m\u001b[38;5;21;01moauth2\u001b[39;00m\u001b[38;5;21;01m.\u001b[39;00m\u001b[38;5;21;01mcredentials\u001b[39;00m\n\u001b[1;32m----> 2\u001b[0m \u001b[38;5;28;01mimport\u001b[39;00m \u001b[38;5;21;01mgoogle_oauth_oauthlib\u001b[39;00m\u001b[38;5;21;01m.\u001b[39;00m\u001b[38;5;21;01mflow\u001b[39;00m\n\u001b[0;32m      4\u001b[0m \u001b[38;5;66;03m# Use the client_secret.json file to identify the application requesting\u001b[39;00m\n\u001b[0;32m      5\u001b[0m \u001b[38;5;66;03m# authorization. The client ID (from that file) and access scopes are required.\u001b[39;00m\n\u001b[0;32m      6\u001b[0m flow \u001b[38;5;241m=\u001b[39m google_auth_oauthlib\u001b[38;5;241m.\u001b[39mflow\u001b[38;5;241m.\u001b[39mFlow\u001b[38;5;241m.\u001b[39mfrom_client_secrets_file(\n\u001b[0;32m      7\u001b[0m     \u001b[38;5;124m'\u001b[39m\u001b[38;5;124mclient_secrets.json\u001b[39m\u001b[38;5;124m'\u001b[39m,\n\u001b[0;32m      8\u001b[0m     scopes\u001b[38;5;241m=\u001b[39m[\u001b[38;5;124m'\u001b[39m\u001b[38;5;124mhttps://www.googleapis.com/auth/youtube.force-ssl\u001b[39m\u001b[38;5;124m'\u001b[39m])\n",
      "\u001b[1;31mModuleNotFoundError\u001b[0m: No module named 'google_oauth_oauthlib'"
     ]
    }
   ],
   "source": [
    "import google.oauth2.credentials\n",
    "import google_oauth_oauthlib.flow\n",
    "\n",
    "# Use the client_secret.json file to identify the application requesting\n",
    "# authorization. The client ID (from that file) and access scopes are required.\n",
    "flow = google_auth_oauthlib.flow.Flow.from_client_secrets_file(\n",
    "    'client_secrets.json',\n",
    "    scopes=['https://www.googleapis.com/auth/youtube.force-ssl'])\n",
    "\n",
    "# Indicate where the API server will redirect the user after the user completes\n",
    "# the authorization flow. The redirect URI is required. The value must exactly\n",
    "# match one of the authorized redirect URIs for the OAuth 2.0 client, which you\n",
    "# configured in the API Console. If this value doesn't match an authorized URI,\n",
    "# you will get a 'redirect_uri_mismatch' error.\n",
    "flow.redirect_uri = 'https://www.example.com/oauth2callback'\n",
    "\n",
    "# Generate URL for request to Google's OAuth 2.0 server.\n",
    "# Use kwargs to set optional request parameters.\n",
    "authorization_url, state = flow.authorization_url(\n",
    "    # Enable offline access so that you can refresh an access token without\n",
    "    # re-prompting the user for permission. Recommended for web server apps.\n",
    "    access_type='offline',\n",
    "    # Enable incremental authorization. Recommended as a best practice.\n",
    "    include_granted_scopes='true')"
   ]
  }
 ],
 "metadata": {
  "kernelspec": {
   "display_name": "Python 3 (ipykernel)",
   "language": "python",
   "name": "python3"
  },
  "language_info": {
   "codemirror_mode": {
    "name": "ipython",
    "version": 3
   },
   "file_extension": ".py",
   "mimetype": "text/x-python",
   "name": "python",
   "nbconvert_exporter": "python",
   "pygments_lexer": "ipython3",
   "version": "3.10.9"
  }
 },
 "nbformat": 4,
 "nbformat_minor": 5
}
