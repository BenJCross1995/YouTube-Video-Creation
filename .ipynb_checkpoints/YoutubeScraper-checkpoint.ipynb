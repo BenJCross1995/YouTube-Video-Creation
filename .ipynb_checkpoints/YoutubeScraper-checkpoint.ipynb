{
 "cells": [
  {
   "cell_type": "code",
   "execution_count": null,
   "id": "06b6caa8",
   "metadata": {},
   "outputs": [],
   "source": [
    "import json\n",
    "credentials = open('client_secret.json')\n",
    "credentials = json.load(credentials)\n",
    "api_key = credentials['web']['api_key']"
   ]
  },
  {
   "cell_type": "code",
   "execution_count": null,
   "id": "73c202b5",
   "metadata": {},
   "outputs": [],
   "source": [
    "import urllib\n",
    "from urllib.request import urlopen\n",
    "import json\n",
    "import pandas as pd\n",
    "\n",
    "def get_all_video_in_channel(channel_id, api_key):\n",
    "    api_key = api_key\n",
    "\n",
    "    base_video_url = 'https://www.youtube.com/watch?v='\n",
    "    base_search_url = 'https://www.googleapis.com/youtube/v3/search?'\n",
    "\n",
    "    first_url = base_search_url+'key={}&channelId={}&part=snippet,id&order=date&maxResults=50'.format(api_key, channel_id)\n",
    "    data = []\n",
    "    url = first_url\n",
    "    while True:\n",
    "        inp = urlopen(url)\n",
    "        resp = json.load(inp)\n",
    "\n",
    "        for i in resp['items']:\n",
    "            if i['id']['kind'] == \"youtube#video\":\n",
    "                data.append(resp['items'])\n",
    "        try:\n",
    "            next_page_token = resp['nextPageToken']\n",
    "            url = first_url + '&pageToken={}'.format(next_page_token)\n",
    "        except:\n",
    "            break\n",
    "    return data"
   ]
  },
  {
   "cell_type": "code",
   "execution_count": null,
   "id": "f08ca992",
   "metadata": {},
   "outputs": [],
   "source": [
    "# No copyright music channel\n",
    "channel_id = \"UC_aEa8K-EOJ3D6gOs7HcyNg\""
   ]
  },
  {
   "cell_type": "code",
   "execution_count": null,
   "id": "0d12a60c",
   "metadata": {},
   "outputs": [],
   "source": [
    "data = get_all_video_in_channel(channel_id, api_key)"
   ]
  },
  {
   "cell_type": "code",
   "execution_count": null,
   "id": "20924789",
   "metadata": {},
   "outputs": [],
   "source": [
    "list_of_dicts = [item for sublist in data for item in sublist]\n",
    "\n",
    "df2 = pd.DataFrame(list_of_dicts)"
   ]
  },
  {
   "cell_type": "code",
   "execution_count": null,
   "id": "c53754a5",
   "metadata": {},
   "outputs": [],
   "source": [
    "# Unnest the video column and remove it\n",
    "df2 = pd.concat([df2.drop('id', axis=1), pd.DataFrame(df2['id'].tolist())], axis=1)\n",
    "df2 = pd.concat([df2.drop('snippet', axis=1), pd.DataFrame(df2['snippet'].tolist())], axis=1)"
   ]
  },
  {
   "cell_type": "code",
   "execution_count": null,
   "id": "8ea5698e",
   "metadata": {},
   "outputs": [],
   "source": [
    "df2"
   ]
  },
  {
   "cell_type": "code",
   "execution_count": null,
   "id": "82fcd568",
   "metadata": {},
   "outputs": [],
   "source": [
    "pd.DataFrame.to_csv(df2, \"youtubedata.csv\")"
   ]
  },
  {
   "cell_type": "code",
   "execution_count": null,
   "id": "2fff2a4b",
   "metadata": {
    "scrolled": true
   },
   "outputs": [],
   "source": [
    "pd.read_csv(\"youtubedata.csv\")"
   ]
  }
 ],
 "metadata": {
  "kernelspec": {
   "display_name": "Python 3 (ipykernel)",
   "language": "python",
   "name": "python3"
  },
  "language_info": {
   "codemirror_mode": {
    "name": "ipython",
    "version": 3
   },
   "file_extension": ".py",
   "mimetype": "text/x-python",
   "name": "python",
   "nbconvert_exporter": "python",
   "pygments_lexer": "ipython3",
   "version": "3.10.9"
  }
 },
 "nbformat": 4,
 "nbformat_minor": 5
}
