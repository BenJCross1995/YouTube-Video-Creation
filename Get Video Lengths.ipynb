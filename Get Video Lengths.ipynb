{
 "cells": [
  {
   "cell_type": "markdown",
   "metadata": {},
   "source": [
    "# Get YouTube Video Lengths"
   ]
  },
  {
   "cell_type": "markdown",
   "metadata": {},
   "source": [
    "This script is used to take the video urls from the background video csv file and then search YouTube to get the lengths of the videos from this list. This is the bottleneck in the main script in terms of computational time so this needs to only be completed every time a new video is added to the list of videos for the background."
   ]
  },
  {
   "cell_type": "code",
   "execution_count": 1,
   "metadata": {},
   "outputs": [],
   "source": [
    "import pandas as pd\n",
    "from pytube import YouTube"
   ]
  },
  {
   "cell_type": "markdown",
   "metadata": {},
   "source": [
    "## Pull the Original File"
   ]
  },
  {
   "cell_type": "code",
   "execution_count": 2,
   "metadata": {},
   "outputs": [],
   "source": [
    "vids = pd.read_csv(\"Background Video Links.csv\")"
   ]
  },
  {
   "cell_type": "markdown",
   "metadata": {},
   "source": [
    "## Search the Links to Return Video Length"
   ]
  },
  {
   "cell_type": "code",
   "execution_count": 3,
   "metadata": {},
   "outputs": [],
   "source": [
    "# Here we aim to get the YouTube objects and video lengths of all background\n",
    "# video options.\n",
    "vid_length = []\n",
    "video_yt = []\n",
    "vid_time = 0\n",
    "\n",
    "# A loop is used because sometime YouTube function fails to connect to the video\n",
    "# so if we set length = 0 when this occurs we can loop videos until the object is\n",
    "# returned. Once we have the object we have all information about the video.\n",
    "for vid in vids['video_url']:\n",
    "    while vid_time == 0:\n",
    "        vid_object = YouTube(vid)\n",
    "        try:\n",
    "            vid_time = vid_object.length\n",
    "        except:\n",
    "            vid_time = 0\n",
    "    \n",
    "    # Once we have connection then append the time and the object itself\n",
    "    vid_length.append(vid_time)\n",
    "    video_yt.append(vid_object)\n",
    "    # Set the vid_time back to zero below to begin looking at next video.\n",
    "    vid_time = 0 \n",
    "        \n",
    "vid_length = pd.DataFrame({'video_length':vid_length})"
   ]
  },
  {
   "cell_type": "markdown",
   "metadata": {},
   "source": [
    "## Create a New Dataframe Containing Video Information"
   ]
  },
  {
   "cell_type": "code",
   "execution_count": 4,
   "metadata": {},
   "outputs": [],
   "source": [
    "vid_data = pd.DataFrame({'video_url':vids['video_url'],\n",
    "              'video_yt':video_yt})\n",
    "vid_data['video_id'] = vid_data['video_url'].str.extract(r'v=(\\w+)')\n",
    "vid_data = pd.concat([vid_data, vid_length], axis=1)"
   ]
  },
  {
   "cell_type": "markdown",
   "metadata": {},
   "source": [
    "## Save the Dataframe"
   ]
  },
  {
   "cell_type": "code",
   "execution_count": 5,
   "metadata": {},
   "outputs": [],
   "source": [
    "vid_data.to_csv(\"Background Video Info.csv\", index = False)"
   ]
  }
 ],
 "metadata": {
  "kernelspec": {
   "display_name": "Python 3",
   "language": "python",
   "name": "python3"
  },
  "language_info": {
   "codemirror_mode": {
    "name": "ipython",
    "version": 3
   },
   "file_extension": ".py",
   "mimetype": "text/x-python",
   "name": "python",
   "nbconvert_exporter": "python",
   "pygments_lexer": "ipython3",
   "version": "3.8.3"
  }
 },
 "nbformat": 4,
 "nbformat_minor": 4
}
