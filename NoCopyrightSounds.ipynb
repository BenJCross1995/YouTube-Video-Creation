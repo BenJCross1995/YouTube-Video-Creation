{
 "cells": [
  {
   "cell_type": "markdown",
   "id": "966303c0",
   "metadata": {},
   "source": [
    "# No Copyright Sounds YouTube Data Manipulation"
   ]
  },
  {
   "cell_type": "markdown",
   "id": "23a8dad0",
   "metadata": {},
   "source": [
    "### Import Modules"
   ]
  },
  {
   "cell_type": "code",
   "execution_count": 1,
   "id": "9705de16",
   "metadata": {},
   "outputs": [],
   "source": [
    "import pandas as pd\n",
    "import requests\n",
    "import urllib.request\n",
    "from bs4 import BeautifulSoup\n",
    "import re"
   ]
  },
  {
   "cell_type": "markdown",
   "id": "82931e7c",
   "metadata": {},
   "source": [
    "### Load/Filter Data"
   ]
  },
  {
   "cell_type": "markdown",
   "id": "7aab9800",
   "metadata": {},
   "source": [
    "The code below loads the data from a csv and then filters to just youtube videos and where the title contains 'NCS Release'. It also adds columns for artist, song, videoURL and an index."
   ]
  },
  {
   "cell_type": "code",
   "execution_count": 2,
   "id": "b50cb2d0",
   "metadata": {},
   "outputs": [],
   "source": [
    "def get_data(loc):\n",
    "    \n",
    "    # Load csv file from location specified\n",
    "    channel_data = pd.read_csv(loc, index_col = None)\n",
    "    \n",
    "    # Remove duplicate titles\n",
    "    channel_data = channel_data.drop_duplicates(subset='title', keep='last')\n",
    "    \n",
    "    # Filtering for any actual releases using the title and kind of video\n",
    "    channel_data = channel_data[channel_data['title'].str.contains(\"NCS Release\")]\n",
    "    channel_data = channel_data[channel_data['kind.1'] == 'youtube#video']\n",
    "    \n",
    "    # Arrange by the publishing time\n",
    "    channel_data = channel_data.sort_values('publishTime')\n",
    "    \n",
    "    # Select required columns\n",
    "    channel_data = channel_data[['channelTitle', 'channelId.1', 'publishTime','title', 'videoId', 'description']]\n",
    "    \n",
    "    # Create a column for the URL\n",
    "    channel_data['videoURL'] = 'https://www.youtube.com/watch?v=' + channel_data['videoId']\n",
    "    \n",
    "    # Create a column for the artist\n",
    "    channel_data['artist'] = channel_data['title'].str.split(' -').str.get(0)\n",
    "    \n",
    "    # Create a column for the song\n",
    "    channel_data['song'] = channel_data['title'].str.extract(r'^.+? - (.+?) \\[NCS Release\\]$')\n",
    "    \n",
    "    # Add index column, remove original index then create new index.\n",
    "    channel_data.reset_index(drop = False, inplace = True)\n",
    "    channel_data['index'] = [i+1 for i,_ in enumerate(channel_data.index)]\n",
    "    \n",
    "    return channel_data"
   ]
  },
  {
   "cell_type": "markdown",
   "id": "1a0767e3",
   "metadata": {},
   "source": [
    "### Extract YouTube Descriptions"
   ]
  },
  {
   "cell_type": "markdown",
   "id": "1a79723b",
   "metadata": {},
   "source": [
    "The code below takes a url from YouTube and returns the description firstly, and then manipulates it to only contain the part of the description that the channel says you should post if you use the music."
   ]
  },
  {
   "cell_type": "code",
   "execution_count": 3,
   "id": "495ec8c8",
   "metadata": {},
   "outputs": [],
   "source": [
    "def extract_description(video_url):\n",
    "    # This gets the response from the URL\n",
    "    response = requests.get(video_url)\n",
    "    # Uses BeautifulSoup to parse the url response\n",
    "    soup = BeautifulSoup(response.content, 'html.parser')\n",
    "    # Uses a pattern to get the description\n",
    "    pattern = re.compile('(?<=shortDescription\":\").*(?=\",\"isCrawlable)')\n",
    "    # Return strings fitting the pattern\n",
    "    description_list = pattern.findall(str(soup))\n",
    "    # If a string was returned then match with the pattern\n",
    "    if description_list:\n",
    "        description = description_list[0].replace('\\\\n','\\n')\n",
    "        # The pattern for the string we are aiming to pull\n",
    "        desc_pattern = r'put this in your description:\\n\\n(.*?)\\n\\n- - - - - - - - - - -'\n",
    "        # Pull the data for this pattern\n",
    "        match = re.search(desc_pattern, description, re.DOTALL)\n",
    "        if match:\n",
    "            output = match.group(1)\n",
    "            return output\n",
    "    return \"\""
   ]
  },
  {
   "cell_type": "markdown",
   "id": "2108797d",
   "metadata": {},
   "source": [
    "### Using the Functions"
   ]
  },
  {
   "cell_type": "code",
   "execution_count": 4,
   "id": "ea4ef327",
   "metadata": {},
   "outputs": [],
   "source": [
    "channel_data = get_data(\"youtubedata.csv\")"
   ]
  },
  {
   "cell_type": "code",
   "execution_count": null,
   "id": "92076b87",
   "metadata": {},
   "outputs": [],
   "source": [
    "# loop the code across every value in the column\n",
    "desc_required_list = []\n",
    "for video_url in channel_data['videoURL']:\n",
    "    desc_required_list.append(extract_description(video_url))\n",
    "    \n",
    "# create a new column with the extracted descriptions\n",
    "channel_data['desc_required'] = desc_required_list"
   ]
  },
  {
   "cell_type": "code",
   "execution_count": null,
   "id": "4305616e",
   "metadata": {},
   "outputs": [],
   "source": [
    "desc_required_list"
   ]
  },
  {
   "cell_type": "code",
   "execution_count": null,
   "id": "4f722e2d",
   "metadata": {},
   "outputs": [],
   "source": [
    "from pytube import YouTube\n",
    "\n",
    "# where to save. \n",
    "# replce /home/balasundar/Downloads/ with the path where you want to store the dowload file\n",
    "#destination = \"/home/balasundar/Downloads/\"\n",
    "# link of the video to be downloaded\n",
    "# Replace with the Youtube video link you want to download.\n",
    "video_link = \"https://www.youtube.com/watch?v=cb4gBO4TjSI\"\n",
    "\n",
    "try:\n",
    "    video = YouTube(video_link)\n",
    "    # filtering the audio. File extension can be mp4/webm\n",
    "    # You can see all the available streams by print(video.streams)\n",
    "    audio = video.streams.filter(only_audio=True, file_extension='mp4').first()\n",
    "    audio.download()\n",
    "    print('Download Completed!')\n",
    "\n",
    "except:\n",
    "    print(\"Connection Error\")  # to handle exception\n"
   ]
  }
 ],
 "metadata": {
  "kernelspec": {
   "display_name": "Python 3 (ipykernel)",
   "language": "python",
   "name": "python3"
  },
  "language_info": {
   "codemirror_mode": {
    "name": "ipython",
    "version": 3
   },
   "file_extension": ".py",
   "mimetype": "text/x-python",
   "name": "python",
   "nbconvert_exporter": "python",
   "pygments_lexer": "ipython3",
   "version": "3.10.9"
  }
 },
 "nbformat": 4,
 "nbformat_minor": 5
}
