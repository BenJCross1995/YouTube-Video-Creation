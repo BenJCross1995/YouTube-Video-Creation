{
 "cells": [
  {
   "cell_type": "code",
   "execution_count": 2,
   "id": "cd6b313b",
   "metadata": {},
   "outputs": [],
   "source": [
    "# Import everything needed to edit video clips\n",
    "from moviepy.editor import *\n",
    " \n",
    "# loading video dsa gfg intro video\n",
    "clip = VideoFileClip(\"dsa_geek.webm\")\n",
    " \n",
    "# getting subclip as video is large\n",
    "clip1 = clip.subclip(0, 5)\n",
    " \n",
    " \n",
    "# loading video gfg\n",
    "clipx = VideoFileClip(\"geeks.mp4\")\n",
    " \n",
    "# getting subclip\n",
    "clip2 = clipx.subclip(0, 5)\n",
    " \n",
    "# clip list\n",
    "clips = [clip1, clip2]\n",
    " \n",
    "# concatenating both the clips\n",
    "final = concatenate_videoclips(clips)\n",
    " \n",
    "# showing final clip\n",
    "final.ipython_display(width = 480)"
   ]
  }
 ],
 "metadata": {
  "kernelspec": {
   "display_name": "Python 3 (ipykernel)",
   "language": "python",
   "name": "python3"
  },
  "language_info": {
   "codemirror_mode": {
    "name": "ipython",
    "version": 3
   },
   "file_extension": ".py",
   "mimetype": "text/x-python",
   "name": "python",
   "nbconvert_exporter": "python",
   "pygments_lexer": "ipython3",
   "version": "3.10.9"
  }
 },
 "nbformat": 4,
 "nbformat_minor": 5
}
