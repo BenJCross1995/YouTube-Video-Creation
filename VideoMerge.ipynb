{
 "cells": [
  {
   "cell_type": "markdown",
   "id": "aad8a625",
   "metadata": {},
   "source": [
    "# TikTok Video Downloader\n"
   ]
  },
  {
   "cell_type": "markdown",
   "id": "b0f36f9c",
   "metadata": {},
   "source": [
    "The code below queries on hashtag and returns the number of items specifiec by the user. Current hashtag is fyp and 50 items."
   ]
  },
  {
   "cell_type": "code",
   "execution_count": 1,
   "id": "094f4521",
   "metadata": {},
   "outputs": [],
   "source": [
    "import http.client\n",
    "\n",
    "conn = http.client.HTTPSConnection(\"tiktok82.p.rapidapi.com\")\n",
    "\n",
    "headers = {\n",
    "    'X-RapidAPI-Key': \"ee9f9a0a74mshdf11304da3f9e15p15be10jsna76036e001f3\",\n",
    "    'X-RapidAPI-Host': \"tiktok82.p.rapidapi.com\"\n",
    "    }\n",
    "\n",
    "conn.request(\"GET\", \"/getChallengeVideos?hashtag=fyp&cursor=50\", headers=headers)\n",
    "\n",
    "res = conn.getresponse()\n",
    "tiktok_hashtag_info = res.read()"
   ]
  },
  {
   "cell_type": "code",
   "execution_count": 3,
   "id": "1f59e232",
   "metadata": {},
   "outputs": [],
   "source": [
    "import pandas as pd\n",
    "import json\n",
    "df = json.loads(tiktok_hashtag_info.decode(\"utf-8\"))['data']['item_list']\n",
    "df = pd.DataFrame.from_dict(df)\n",
    "df = df[['id', 'desc', 'createTime', 'video', 'author', 'stats', 'authorStats']]"
   ]
  },
  {
   "cell_type": "code",
   "execution_count": 4,
   "id": "2a702b2f",
   "metadata": {},
   "outputs": [],
   "source": [
    "df = pd.concat([df.drop('video', axis=1),\n",
    "                pd.DataFrame(df['video'].tolist())], axis=1)\n",
    "df = pd.concat([df.drop('stats', axis=1),\n",
    "                pd.DataFrame(df['stats'].tolist())], axis=1)\n",
    "df = pd.concat([df.drop('authorStats', axis=1),\n",
    "                pd.DataFrame(df['authorStats'].tolist())], axis=1)"
   ]
  },
  {
   "cell_type": "code",
   "execution_count": 5,
   "id": "57e66c08",
   "metadata": {},
   "outputs": [],
   "source": [
    "df = pd.concat([df.drop('author', axis=1),\n",
    "                pd.json_normalize(df['author'])], axis=1)"
   ]
  },
  {
   "cell_type": "code",
   "execution_count": 6,
   "id": "ed9bdd64",
   "metadata": {},
   "outputs": [],
   "source": [
    "df = pd.concat([df.iloc[:,0], df[['desc', 'createTime', 'height', 'width', 'duration', 'downloadAddr',\n",
    "   'shareCount', 'commentCount', 'playCount', 'followerCount', 'heartCount',\n",
    "   'uniqueId', 'nickname']]], axis = 1)\n",
    "df = df.sort_values(['playCount', 'shareCount', 'followerCount'], ascending = False)"
   ]
  },
  {
   "cell_type": "code",
   "execution_count": 7,
   "id": "ba75652a",
   "metadata": {},
   "outputs": [
    {
     "data": {
      "text/html": [
       "<div>\n",
       "<style scoped>\n",
       "    .dataframe tbody tr th:only-of-type {\n",
       "        vertical-align: middle;\n",
       "    }\n",
       "\n",
       "    .dataframe tbody tr th {\n",
       "        vertical-align: top;\n",
       "    }\n",
       "\n",
       "    .dataframe thead th {\n",
       "        text-align: right;\n",
       "    }\n",
       "</style>\n",
       "<table border=\"1\" class=\"dataframe\">\n",
       "  <thead>\n",
       "    <tr style=\"text-align: right;\">\n",
       "      <th></th>\n",
       "      <th>id</th>\n",
       "      <th>desc</th>\n",
       "      <th>createTime</th>\n",
       "      <th>height</th>\n",
       "      <th>width</th>\n",
       "      <th>duration</th>\n",
       "      <th>downloadAddr</th>\n",
       "      <th>shareCount</th>\n",
       "      <th>commentCount</th>\n",
       "      <th>playCount</th>\n",
       "      <th>followerCount</th>\n",
       "      <th>heartCount</th>\n",
       "      <th>uniqueId</th>\n",
       "      <th>nickname</th>\n",
       "    </tr>\n",
       "  </thead>\n",
       "  <tbody>\n",
       "    <tr>\n",
       "      <th>0</th>\n",
       "      <td>7154002454273609003</td>\n",
       "      <td>The #spinning#wheel defies gravity? No! It obe...</td>\n",
       "      <td>1665702001</td>\n",
       "      <td>1024</td>\n",
       "      <td>576</td>\n",
       "      <td>29</td>\n",
       "      <td>https://v16-webapp-prime.us.tiktok.com/video/t...</td>\n",
       "      <td>98200</td>\n",
       "      <td>35400</td>\n",
       "      <td>89300000</td>\n",
       "      <td>1500000</td>\n",
       "      <td>28100000</td>\n",
       "      <td>tamuphysastr</td>\n",
       "      <td>TAMU Physics &amp; Astronomy</td>\n",
       "    </tr>\n",
       "    <tr>\n",
       "      <th>2</th>\n",
       "      <td>7182788216725015850</td>\n",
       "      <td>#washhair #haircare #amazing #smooth #hairstyl...</td>\n",
       "      <td>1672373214</td>\n",
       "      <td>1024</td>\n",
       "      <td>576</td>\n",
       "      <td>8</td>\n",
       "      <td>https://v16-webapp-prime.us.tiktok.com/video/t...</td>\n",
       "      <td>9793</td>\n",
       "      <td>30300</td>\n",
       "      <td>69900000</td>\n",
       "      <td>312700</td>\n",
       "      <td>10000000</td>\n",
       "      <td>shockingwig</td>\n",
       "      <td>Xo_shockingwig</td>\n",
       "    </tr>\n",
       "    <tr>\n",
       "      <th>6</th>\n",
       "      <td>7191482758697438507</td>\n",
       "      <td>I get so stressed. #childhood #food #roadtrip ...</td>\n",
       "      <td>1674397591</td>\n",
       "      <td>1024</td>\n",
       "      <td>576</td>\n",
       "      <td>5</td>\n",
       "      <td>https://v16-webapp-prime.us.tiktok.com/video/t...</td>\n",
       "      <td>275700</td>\n",
       "      <td>87500</td>\n",
       "      <td>54600000</td>\n",
       "      <td>67900</td>\n",
       "      <td>43800000</td>\n",
       "      <td>dale_ebert</td>\n",
       "      <td>Dale Ebert</td>\n",
       "    </tr>\n",
       "    <tr>\n",
       "      <th>10</th>\n",
       "      <td>7150656977562127618</td>\n",
       "      <td>#fyp</td>\n",
       "      <td>1664892082</td>\n",
       "      <td>1022</td>\n",
       "      <td>576</td>\n",
       "      <td>10</td>\n",
       "      <td>https://v16-webapp-prime.us.tiktok.com/video/t...</td>\n",
       "      <td>317700</td>\n",
       "      <td>71200</td>\n",
       "      <td>45800000</td>\n",
       "      <td>141100</td>\n",
       "      <td>9500000</td>\n",
       "      <td>zurnass</td>\n",
       "      <td>🐬🍇</td>\n",
       "    </tr>\n",
       "    <tr>\n",
       "      <th>9</th>\n",
       "      <td>7157735365191748907</td>\n",
       "      <td>Before and after the gas chamber #army #milita...</td>\n",
       "      <td>1666540144</td>\n",
       "      <td>1024</td>\n",
       "      <td>576</td>\n",
       "      <td>104</td>\n",
       "      <td>https://v16-webapp-prime.us.tiktok.com/video/t...</td>\n",
       "      <td>97400</td>\n",
       "      <td>58000</td>\n",
       "      <td>42100000</td>\n",
       "      <td>118000</td>\n",
       "      <td>8600000</td>\n",
       "      <td>bholley08</td>\n",
       "      <td>Brandon</td>\n",
       "    </tr>\n",
       "    <tr>\n",
       "      <th>11</th>\n",
       "      <td>7211991292757396782</td>\n",
       "      <td>Everybody got a stick we domt run fades 😮‍💨. #...</td>\n",
       "      <td>1679172589</td>\n",
       "      <td>456</td>\n",
       "      <td>360</td>\n",
       "      <td>17</td>\n",
       "      <td>https://v16-webapp-prime.us.tiktok.com/video/t...</td>\n",
       "      <td>63400</td>\n",
       "      <td>8277</td>\n",
       "      <td>31000000</td>\n",
       "      <td>19200</td>\n",
       "      <td>3200000</td>\n",
       "      <td>cristopherwayne_</td>\n",
       "      <td>Cristopherwayne</td>\n",
       "    </tr>\n",
       "    <tr>\n",
       "      <th>4</th>\n",
       "      <td>7209072472598039851</td>\n",
       "      <td>#fyp #bruh #friendship</td>\n",
       "      <td>1678492993</td>\n",
       "      <td>1024</td>\n",
       "      <td>576</td>\n",
       "      <td>13</td>\n",
       "      <td>https://v16-webapp-prime.us.tiktok.com/video/t...</td>\n",
       "      <td>212900</td>\n",
       "      <td>97900</td>\n",
       "      <td>30500000</td>\n",
       "      <td>84600</td>\n",
       "      <td>8000000</td>\n",
       "      <td>alanccito</td>\n",
       "      <td>alan</td>\n",
       "    </tr>\n",
       "    <tr>\n",
       "      <th>3</th>\n",
       "      <td>7198388712663977262</td>\n",
       "      <td>AND DESTROYYY INDIA👹👹 #pakistan #grape #wowgra...</td>\n",
       "      <td>1676005504</td>\n",
       "      <td>576</td>\n",
       "      <td>664</td>\n",
       "      <td>65</td>\n",
       "      <td>https://v16-webapp-prime.us.tiktok.com/video/t...</td>\n",
       "      <td>138100</td>\n",
       "      <td>41400</td>\n",
       "      <td>30300000</td>\n",
       "      <td>232800</td>\n",
       "      <td>24100000</td>\n",
       "      <td>mzikuuu</td>\n",
       "      <td>يسوع3&gt;</td>\n",
       "    </tr>\n",
       "    <tr>\n",
       "      <th>1</th>\n",
       "      <td>7212449484695964970</td>\n",
       "      <td>This is so embarrassing#film #filmclips #movie...</td>\n",
       "      <td>1679279263</td>\n",
       "      <td>960</td>\n",
       "      <td>540</td>\n",
       "      <td>44</td>\n",
       "      <td>https://v16-webapp-prime.us.tiktok.com/video/t...</td>\n",
       "      <td>11800</td>\n",
       "      <td>6429</td>\n",
       "      <td>28300000</td>\n",
       "      <td>120300</td>\n",
       "      <td>7700000</td>\n",
       "      <td>sentenceaboutlove</td>\n",
       "      <td>Love sentence</td>\n",
       "    </tr>\n",
       "    <tr>\n",
       "      <th>5</th>\n",
       "      <td>7187462135956655406</td>\n",
       "      <td>Bro was in a rush😭 #fyp #funnyvideos</td>\n",
       "      <td>1673461463</td>\n",
       "      <td>1024</td>\n",
       "      <td>576</td>\n",
       "      <td>12</td>\n",
       "      <td>https://v16-webapp-prime.us.tiktok.com/video/t...</td>\n",
       "      <td>43200</td>\n",
       "      <td>21400</td>\n",
       "      <td>20800000</td>\n",
       "      <td>35900</td>\n",
       "      <td>5500000</td>\n",
       "      <td>manhattansolos_</td>\n",
       "      <td>Manhattan</td>\n",
       "    </tr>\n",
       "    <tr>\n",
       "      <th>7</th>\n",
       "      <td>7175668755622612267</td>\n",
       "      <td>Proud of my culture ❤️ #onlyinwichitaks #fyp #...</td>\n",
       "      <td>1670715589</td>\n",
       "      <td>1024</td>\n",
       "      <td>576</td>\n",
       "      <td>32</td>\n",
       "      <td>https://v16-webapp-prime.us.tiktok.com/video/t...</td>\n",
       "      <td>7354</td>\n",
       "      <td>5835</td>\n",
       "      <td>11500000</td>\n",
       "      <td>30400</td>\n",
       "      <td>2400000</td>\n",
       "      <td>yadi.1207</td>\n",
       "      <td>Yadi1207</td>\n",
       "    </tr>\n",
       "    <tr>\n",
       "      <th>8</th>\n",
       "      <td>7210848294535302443</td>\n",
       "      <td>𝑪𝑨𝑵 𝒀𝑶𝑼 𝑹𝑬𝑴𝑬𝑴𝑩𝑬𝑹? 🌧️🌧️🌧️  Everything made in B...</td>\n",
       "      <td>1678906457</td>\n",
       "      <td>1024</td>\n",
       "      <td>576</td>\n",
       "      <td>17</td>\n",
       "      <td>https://v16-webapp-prime.us.tiktok.com/video/t...</td>\n",
       "      <td>18000</td>\n",
       "      <td>9681</td>\n",
       "      <td>9800000</td>\n",
       "      <td>227100</td>\n",
       "      <td>3500000</td>\n",
       "      <td>scoutwithasix</td>\n",
       "      <td>sc6ut</td>\n",
       "    </tr>\n",
       "  </tbody>\n",
       "</table>\n",
       "</div>"
      ],
      "text/plain": [
       "                     id                                               desc  \\\n",
       "0   7154002454273609003  The #spinning#wheel defies gravity? No! It obe...   \n",
       "2   7182788216725015850  #washhair #haircare #amazing #smooth #hairstyl...   \n",
       "6   7191482758697438507  I get so stressed. #childhood #food #roadtrip ...   \n",
       "10  7150656977562127618                                              #fyp    \n",
       "9   7157735365191748907  Before and after the gas chamber #army #milita...   \n",
       "11  7211991292757396782  Everybody got a stick we domt run fades 😮‍💨. #...   \n",
       "4   7209072472598039851                            #fyp #bruh #friendship    \n",
       "3   7198388712663977262  AND DESTROYYY INDIA👹👹 #pakistan #grape #wowgra...   \n",
       "1   7212449484695964970  This is so embarrassing#film #filmclips #movie...   \n",
       "5   7187462135956655406              Bro was in a rush😭 #fyp #funnyvideos    \n",
       "7   7175668755622612267  Proud of my culture ❤️ #onlyinwichitaks #fyp #...   \n",
       "8   7210848294535302443  𝑪𝑨𝑵 𝒀𝑶𝑼 𝑹𝑬𝑴𝑬𝑴𝑩𝑬𝑹? 🌧️🌧️🌧️  Everything made in B...   \n",
       "\n",
       "    createTime  height  width  duration  \\\n",
       "0   1665702001    1024    576        29   \n",
       "2   1672373214    1024    576         8   \n",
       "6   1674397591    1024    576         5   \n",
       "10  1664892082    1022    576        10   \n",
       "9   1666540144    1024    576       104   \n",
       "11  1679172589     456    360        17   \n",
       "4   1678492993    1024    576        13   \n",
       "3   1676005504     576    664        65   \n",
       "1   1679279263     960    540        44   \n",
       "5   1673461463    1024    576        12   \n",
       "7   1670715589    1024    576        32   \n",
       "8   1678906457    1024    576        17   \n",
       "\n",
       "                                         downloadAddr  shareCount  \\\n",
       "0   https://v16-webapp-prime.us.tiktok.com/video/t...       98200   \n",
       "2   https://v16-webapp-prime.us.tiktok.com/video/t...        9793   \n",
       "6   https://v16-webapp-prime.us.tiktok.com/video/t...      275700   \n",
       "10  https://v16-webapp-prime.us.tiktok.com/video/t...      317700   \n",
       "9   https://v16-webapp-prime.us.tiktok.com/video/t...       97400   \n",
       "11  https://v16-webapp-prime.us.tiktok.com/video/t...       63400   \n",
       "4   https://v16-webapp-prime.us.tiktok.com/video/t...      212900   \n",
       "3   https://v16-webapp-prime.us.tiktok.com/video/t...      138100   \n",
       "1   https://v16-webapp-prime.us.tiktok.com/video/t...       11800   \n",
       "5   https://v16-webapp-prime.us.tiktok.com/video/t...       43200   \n",
       "7   https://v16-webapp-prime.us.tiktok.com/video/t...        7354   \n",
       "8   https://v16-webapp-prime.us.tiktok.com/video/t...       18000   \n",
       "\n",
       "    commentCount  playCount  followerCount  heartCount           uniqueId  \\\n",
       "0          35400   89300000        1500000    28100000       tamuphysastr   \n",
       "2          30300   69900000         312700    10000000        shockingwig   \n",
       "6          87500   54600000          67900    43800000         dale_ebert   \n",
       "10         71200   45800000         141100     9500000            zurnass   \n",
       "9          58000   42100000         118000     8600000          bholley08   \n",
       "11          8277   31000000          19200     3200000   cristopherwayne_   \n",
       "4          97900   30500000          84600     8000000          alanccito   \n",
       "3          41400   30300000         232800    24100000            mzikuuu   \n",
       "1           6429   28300000         120300     7700000  sentenceaboutlove   \n",
       "5          21400   20800000          35900     5500000    manhattansolos_   \n",
       "7           5835   11500000          30400     2400000          yadi.1207   \n",
       "8           9681    9800000         227100     3500000      scoutwithasix   \n",
       "\n",
       "                    nickname  \n",
       "0   TAMU Physics & Astronomy  \n",
       "2             Xo_shockingwig  \n",
       "6                 Dale Ebert  \n",
       "10                        🐬🍇  \n",
       "9                    Brandon  \n",
       "11           Cristopherwayne  \n",
       "4                       alan  \n",
       "3                     يسوع3>  \n",
       "1              Love sentence  \n",
       "5                  Manhattan  \n",
       "7                   Yadi1207  \n",
       "8                      sc6ut  "
      ]
     },
     "execution_count": 7,
     "metadata": {},
     "output_type": "execute_result"
    }
   ],
   "source": [
    "df"
   ]
  },
  {
   "cell_type": "markdown",
   "id": "97278a96",
   "metadata": {},
   "source": [
    "Code below downloads video with watermark. Will need to edit for a loop.\n"
   ]
  },
  {
   "cell_type": "code",
   "execution_count": 9,
   "id": "2d33a213",
   "metadata": {},
   "outputs": [
    {
     "data": {
      "text/plain": [
       "0     https://v16-webapp-prime.us.tiktok.com/video/t...\n",
       "2     https://v16-webapp-prime.us.tiktok.com/video/t...\n",
       "6     https://v16-webapp-prime.us.tiktok.com/video/t...\n",
       "10    https://v16-webapp-prime.us.tiktok.com/video/t...\n",
       "9     https://v16-webapp-prime.us.tiktok.com/video/t...\n",
       "11    https://v16-webapp-prime.us.tiktok.com/video/t...\n",
       "4     https://v16-webapp-prime.us.tiktok.com/video/t...\n",
       "3     https://v16-webapp-prime.us.tiktok.com/video/t...\n",
       "1     https://v16-webapp-prime.us.tiktok.com/video/t...\n",
       "5     https://v16-webapp-prime.us.tiktok.com/video/t...\n",
       "7     https://v16-webapp-prime.us.tiktok.com/video/t...\n",
       "8     https://v16-webapp-prime.us.tiktok.com/video/t...\n",
       "Name: downloadAddr, dtype: object"
      ]
     },
     "execution_count": 9,
     "metadata": {},
     "output_type": "execute_result"
    }
   ],
   "source": [
    "vids_to_download = df['downloadAddr']\n",
    "vids_to_download"
   ]
  },
  {
   "cell_type": "code",
   "execution_count": 53,
   "id": "beabcbad",
   "metadata": {},
   "outputs": [
    {
     "name": "stdout",
     "output_type": "stream",
     "text": [
      "{\"success\":true,\"video_url\":\"https://v16m-default.akamaized.net/fa79d91b209de6141f9834d2c80db0bc/64371a4a/video/tos/maliva/tos-maliva-ve-0068c799-us/4b8e63c6065d4e8ba8fbf96b455eb324/?a=0&ch=0&cr=0&dr=0&lr=all&cd=0%7C0%7C0%7C0&cv=1&br=3462&bt=1731&cs=0&ds=6&ft=iJOG.y7oZZv0PD1hfD6Xg9wMy2j5kEeC~&mime_type=video_mp4&qs=0&rc=NTtlZmkzZGdkPGc1Zzw8OUBpM2VvO2Q6Zjk0ZzMzZzgzNEAvNWEwLjUxXl8xMzU0MS8zYSNwXjU1cjRnbjFgLS1kLy9zcw%3D%3D&l=202304121452595820E47A8F59E21BE778&btag=80000\",\"video_url_HQ\":\"https://v16m-default.akamaized.net/fa79d91b209de6141f9834d2c80db0bc/64371a4a/video/tos/maliva/tos-maliva-ve-0068c799-us/4b8e63c6065d4e8ba8fbf96b455eb324/?a=0&ch=0&cr=0&dr=0&lr=all&cd=0%7C0%7C0%7C0&cv=1&br=3462&bt=1731&cs=0&ds=6&ft=iJOG.y7oZZv0PD1hfD6Xg9wMy2j5kEeC~&mime_type=video_mp4&qs=0&rc=NTtlZmkzZGdkPGc1Zzw8OUBpM2VvO2Q6Zjk0ZzMzZzgzNEAvNWEwLjUxXl8xMzU0MS8zYSNwXjU1cjRnbjFgLS1kLy9zcw%3D%3D&l=202304121452595820E47A8F59E21BE778&btag=80000\"}\n"
     ]
    }
   ],
   "source": [
    "import http.client\n",
    "\n",
    "conn = http.client.HTTPSConnection(\"tiktok82.p.rapidapi.com\")\n",
    "\n",
    "headers = {\n",
    "    'X-RapidAPI-Key': \"ee9f9a0a74mshdf11304da3f9e15p15be10jsna76036e001f3\",\n",
    "    'X-RapidAPI-Host': \"tiktok82.p.rapidapi.com\"\n",
    "    }\n",
    "\n",
    "conn.request(\"GET\",\n",
    "             \"/getDownloadVideoWithoutWatermark?video_url=https%3A%2F%2Fwww.tiktok.com%2F%40tamuphysastr%2Fvideo%2F7154002454273609003\",\n",
    "             headers=headers)\n",
    "\n",
    "res = conn.getresponse()\n",
    "data = res.read()\n",
    "\n",
    "print(data.decode(\"utf-8\"))"
   ]
  },
  {
   "cell_type": "code",
   "execution_count": 34,
   "id": "d63dc5d9",
   "metadata": {},
   "outputs": [
    {
     "ename": "KeyError",
     "evalue": "'video_url_HQ'",
     "output_type": "error",
     "traceback": [
      "\u001b[1;31m---------------------------------------------------------------------------\u001b[0m",
      "\u001b[1;31mKeyError\u001b[0m                                  Traceback (most recent call last)",
      "Cell \u001b[1;32mIn[34], line 23\u001b[0m\n\u001b[0;32m     21\u001b[0m res \u001b[38;5;241m=\u001b[39m conn\u001b[38;5;241m.\u001b[39mgetresponse()\n\u001b[0;32m     22\u001b[0m data \u001b[38;5;241m=\u001b[39m res\u001b[38;5;241m.\u001b[39mread()\n\u001b[1;32m---> 23\u001b[0m HQ_url \u001b[38;5;241m=\u001b[39m \u001b[43mjson\u001b[49m\u001b[38;5;241;43m.\u001b[39;49m\u001b[43mloads\u001b[49m\u001b[43m(\u001b[49m\u001b[43mdata\u001b[49m\u001b[38;5;241;43m.\u001b[39;49m\u001b[43mdecode\u001b[49m\u001b[43m(\u001b[49m\u001b[38;5;124;43m\"\u001b[39;49m\u001b[38;5;124;43mutf-8\u001b[39;49m\u001b[38;5;124;43m\"\u001b[39;49m\u001b[43m)\u001b[49m\u001b[43m)\u001b[49m\u001b[43m[\u001b[49m\u001b[38;5;124;43m'\u001b[39;49m\u001b[38;5;124;43mvideo_url_HQ\u001b[39;49m\u001b[38;5;124;43m'\u001b[39;49m\u001b[43m]\u001b[49m\n\u001b[0;32m     24\u001b[0m url_link \u001b[38;5;241m=\u001b[39m HQ_url\n\u001b[0;32m     25\u001b[0m urllib\u001b[38;5;241m.\u001b[39mrequest\u001b[38;5;241m.\u001b[39murlretrieve(url_link, \u001b[38;5;124m'\u001b[39m\u001b[38;5;124mvideo_name.mp4\u001b[39m\u001b[38;5;124m'\u001b[39m) \n",
      "\u001b[1;31mKeyError\u001b[0m: 'video_url_HQ'"
     ]
    }
   ],
   "source": [
    "import http.client\n",
    "import urllib.request\n",
    "\n",
    "conn = http.client.HTTPSConnection(\"tiktok82.p.rapidapi.com\")\n",
    "\n",
    "headers = {\n",
    "    'X-RapidAPI-Key': \"ee9f9a0a74mshdf11304da3f9e15p15be10jsna76036e001f3\",\n",
    "    'X-RapidAPI-Host': \"tiktok82.p.rapidapi.com\"\n",
    "    }\n",
    "\n",
    "\n",
    "i = 0\n",
    "\n",
    "# Loop through files and load the videos and combine into a list\n",
    "while i < len(vids_to_download):\n",
    "    filename = \"vid_\" + f'{i:02d}'\n",
    "    vid_url = vids_to_download[i]\n",
    "    \n",
    "    conn.request(\"GET\",\n",
    "                 vid_url,\n",
    "                 headers=headers)\n",
    "    \n",
    "    res = conn.getresponse()\n",
    "    data = res.read()\n",
    "    HQ_url = json.loads(data.decode(\"utf-8\"))['video_url_HQ']\n",
    "    url_link = HQ_url\n",
    "    urllib.request.urlretrieve(url_link, 'video_name.mp4') \n",
    "    i = i + 1"
   ]
  },
  {
   "cell_type": "markdown",
   "id": "5268e6a5",
   "metadata": {},
   "source": [
    "Access the high quality url for downloading the video from json object"
   ]
  },
  {
   "cell_type": "code",
   "execution_count": 49,
   "id": "43525160",
   "metadata": {},
   "outputs": [
    {
     "data": {
      "text/plain": [
       "'https://v16-webapp-prime.us.tiktok.com/video/tos/useast5/tos-useast5-ve-0068c002-tx/b334d71b394045eb89cd4b7a62f25586/?a=1988&ch=0&cr=0&dr=0&lr=tiktok_m&cd=0%7C0%7C1%7C0&cv=1&br=1172&bt=586&cs=0&ds=3&ft=_rKBMBnZq8ZmoLtsTc_vjuGksAhLrus&mime_type=video_mp4&qs=0&rc=ZjY6OWU5Zjk2PDhpMzUzZkBpM3I0OjU6Zm12ajMzZzczNEA0YTU1YC1eXi4xMzMvMl42YSNmaWkvcjRvNF9gLS1kMS9zcw%3D%3D&expire=1681331027&l=20230412142302B0B1701FFC6BCE01325F&ply_type=2&policy=2&signature=06173e8835f1ac7177a6d436ab6830b1&tk=tt_chain_token'"
      ]
     },
     "execution_count": 49,
     "metadata": {},
     "output_type": "execute_result"
    }
   ],
   "source": [
    "#HQ_url = json.loads(data.decode(\"utf-8\"))['video_url_HQ']\n",
    "vids_to_download[1]"
   ]
  },
  {
   "cell_type": "code",
   "execution_count": 54,
   "id": "2d0ee69c",
   "metadata": {},
   "outputs": [],
   "source": [
    "HQ_url = json.loads(data.decode(\"utf-8\"))['video_url_HQ']"
   ]
  },
  {
   "cell_type": "markdown",
   "id": "d2e6c9a1",
   "metadata": {},
   "source": [
    "Save the HQ video from the above URL\n"
   ]
  },
  {
   "cell_type": "code",
   "execution_count": 55,
   "id": "b68882b1",
   "metadata": {},
   "outputs": [
    {
     "data": {
      "text/plain": [
       "('video_name.mp4', <http.client.HTTPMessage at 0x1fee59da1a0>)"
      ]
     },
     "execution_count": 55,
     "metadata": {},
     "output_type": "execute_result"
    }
   ],
   "source": [
    "import urllib.request\n",
    "url_link = HQ_url\n",
    "urllib.request.urlretrieve(url_link, 'video_name.mp4') "
   ]
  },
  {
   "cell_type": "markdown",
   "id": "6f150fbf",
   "metadata": {},
   "source": [
    "Keep any files stored in selected directory which are of the usual type. This is done as within a sample of videos downloaded from TikTok, the majority were MP4 but one was MOV."
   ]
  },
  {
   "cell_type": "code",
   "execution_count": null,
   "id": "951ffc2e",
   "metadata": {},
   "outputs": [],
   "source": [
    "# Load packages for file observation\n",
    "from os import listdir\n",
    "from os.path import isfile, join\n",
    "\n",
    "# Selected folder containing sample videos\n",
    "mypath = \"./SampleVideos/\"\n",
    "usual_types = (\"MP4\", \"MOV\", \"WMV\", \"AVI\", \"AVCHD\",\n",
    "               \"FLV\", \"F4V\", \"SWF\", \"MKV\", \"WEBM\", \"HTML5\")\n",
    "\n",
    "# Get the files then filter them so only those ending with above are kept.\n",
    "video_files = [f for f in listdir(mypath) if isfile(join(mypath, f))]\n",
    "video_files = [val for val in video_files if val.endswith(usual_types)]"
   ]
  },
  {
   "cell_type": "markdown",
   "id": "2a28d427",
   "metadata": {},
   "source": [
    "The following appends all videos in the location together. This may change so that i can add directly from URL without saving the videos to my harddrive."
   ]
  },
  {
   "cell_type": "code",
   "execution_count": null,
   "id": "507bf034",
   "metadata": {},
   "outputs": [],
   "source": [
    "# Import moviepy to combine videos\n",
    "from moviepy.editor import *\n",
    "\n",
    "# Start the loop at 0 and create empty list the length of the files\n",
    "i = 0\n",
    "clips = list(range(len(video_files)))\n",
    "\n",
    "# Loop through files and load the videos and combine into a list\n",
    "while i < len(video_files):\n",
    "    clips[i] = VideoFileClip(mypath + video_files[i])\n",
    "    i = i + 1\n",
    "\n",
    "# Combine all the videos together\n",
    "combined_vids = concatenate_videoclips(clips)"
   ]
  },
  {
   "cell_type": "code",
   "execution_count": null,
   "id": "fd6b7a5c",
   "metadata": {},
   "outputs": [],
   "source": [
    "# Write the video\n",
    "combined_vids.write_videofile(\"combined_vids.mp4\")"
   ]
  }
 ],
 "metadata": {
  "kernelspec": {
   "display_name": "Python 3 (ipykernel)",
   "language": "python",
   "name": "python3"
  },
  "language_info": {
   "codemirror_mode": {
    "name": "ipython",
    "version": 3
   },
   "file_extension": ".py",
   "mimetype": "text/x-python",
   "name": "python",
   "nbconvert_exporter": "python",
   "pygments_lexer": "ipython3",
   "version": "3.10.9"
  }
 },
 "nbformat": 4,
 "nbformat_minor": 5
}
