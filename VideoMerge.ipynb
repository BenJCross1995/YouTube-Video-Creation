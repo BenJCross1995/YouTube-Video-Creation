{
 "cells": [
  {
   "cell_type": "code",
   "execution_count": 1,
   "id": "951ffc2e",
   "metadata": {},
   "outputs": [],
   "source": [
    "from os import listdir\n",
    "from os.path import isfile, join\n",
    "mypath = \"./SampleVideos/\"\n",
    "usual_types = (\"MP4\", \"MOV\", \"WMV\", \"AVI\", \"AVCHD\",\n",
    "               \"FLV\", \"F4V\", \"SWF\", \"MKV\", \"WEBM\", \"HTML5\")\n",
    "video_files = [f for f in listdir(mypath) if isfile(join(mypath, f))]\n",
    "video_files = [val for val in video_files if val.endswith(usual_types)]"
   ]
  },
  {
   "cell_type": "code",
   "execution_count": 2,
   "id": "8ed294fc",
   "metadata": {},
   "outputs": [
    {
     "data": {
      "text/plain": [
       "['v09044g40000cgkungjc77ud1taatf0g.MP4',\n",
       " 'v09044g40000cgfdrojc77uf5ep5g5d0.MP4',\n",
       " 'v09044g40000cgdknjbc77u4509gqumg.MP4',\n",
       " 'v09044g40000cggpie3c77u76396njo0.MP4',\n",
       " 'v09044g40000cgins93c77u5l7veigng.MP4',\n",
       " 'v10044g50000cgkmc4jc77udia7iaip0.MP4',\n",
       " 'v12044gd0000cgor8erc77ud8q01n5fg.MP4',\n",
       " 'export_1681229924242.MOV',\n",
       " 'v09044g40000cgfj24rc77ub3ce79c10.MP4']"
      ]
     },
     "execution_count": 2,
     "metadata": {},
     "output_type": "execute_result"
    }
   ],
   "source": [
    "video_files"
   ]
  },
  {
   "cell_type": "code",
   "execution_count": 3,
   "id": "507bf034",
   "metadata": {},
   "outputs": [
    {
     "name": "stdout",
     "output_type": "stream",
     "text": [
      "Moviepy - Building video __temp__.mp4.\n",
      "MoviePy - Writing audio in __temp__TEMP_MPY_wvf_snd.mp3\n"
     ]
    },
    {
     "name": "stderr",
     "output_type": "stream",
     "text": [
      "                                                                                \r"
     ]
    },
    {
     "name": "stdout",
     "output_type": "stream",
     "text": [
      "MoviePy - Done.\n",
      "Moviepy - Writing video __temp__.mp4\n",
      "\n"
     ]
    },
    {
     "name": "stderr",
     "output_type": "stream",
     "text": [
      "                                                                                \r"
     ]
    },
    {
     "name": "stdout",
     "output_type": "stream",
     "text": [
      "Moviepy - Done !\n",
      "Moviepy - video ready __temp__.mp4\n"
     ]
    },
    {
     "ename": "ValueError",
     "evalue": "The duration of video __temp__.mp4 (295.4) exceeds the 'maxduration' attribute. You can increase 'maxduration', by passing 'maxduration' parameterto ipython_display function.But note that embedding large videos may take all the memory away !",
     "output_type": "error",
     "traceback": [
      "\u001b[0;31m---------------------------------------------------------------------------\u001b[0m",
      "\u001b[0;31mValueError\u001b[0m                                Traceback (most recent call last)",
      "Cell \u001b[0;32mIn[3], line 16\u001b[0m\n\u001b[1;32m     11\u001b[0m combined_vids \u001b[38;5;241m=\u001b[39m concatenate_videoclips(clips)\n\u001b[1;32m     12\u001b[0m \u001b[38;5;66;03m#vid_audio = concatenate_audioclips(clips)\u001b[39;00m\n\u001b[1;32m     13\u001b[0m \u001b[38;5;66;03m#combined_vids\u001b[39;00m\n\u001b[1;32m     14\u001b[0m \u001b[38;5;66;03m#combined_vids.set_audio(\"combined_vidsTEMP_MPY_wvf_snd.mp3\")\u001b[39;00m\n\u001b[1;32m     15\u001b[0m \u001b[38;5;66;03m#combined_vids.write_videofile(\"combined_vids.mp4\")\u001b[39;00m\n\u001b[0;32m---> 16\u001b[0m \u001b[43mcombined_vids\u001b[49m\u001b[38;5;241;43m.\u001b[39;49m\u001b[43mipython_display\u001b[49m\u001b[43m(\u001b[49m\u001b[43mwidth\u001b[49m\u001b[43m \u001b[49m\u001b[38;5;241;43m=\u001b[39;49m\u001b[43m \u001b[49m\u001b[38;5;241;43m480\u001b[39;49m\u001b[43m)\u001b[49m\n",
      "File \u001b[0;32m~/anaconda3/lib/python3.10/site-packages/moviepy/video/io/html_tools.py:220\u001b[0m, in \u001b[0;36mipython_display\u001b[0;34m(clip, filetype, maxduration, t, fps, rd_kwargs, center, **html_kwargs)\u001b[0m\n\u001b[1;32m    217\u001b[0m \u001b[38;5;28;01mif\u001b[39;00m t \u001b[38;5;129;01mis\u001b[39;00m \u001b[38;5;129;01mnot\u001b[39;00m \u001b[38;5;28;01mNone\u001b[39;00m:\n\u001b[1;32m    218\u001b[0m     clip \u001b[38;5;241m=\u001b[39m clip\u001b[38;5;241m.\u001b[39mto_ImageClip(t)\n\u001b[0;32m--> 220\u001b[0m \u001b[38;5;28;01mreturn\u001b[39;00m HTML2(\u001b[43mhtml_embed\u001b[49m\u001b[43m(\u001b[49m\u001b[43mclip\u001b[49m\u001b[43m,\u001b[49m\u001b[43m \u001b[49m\u001b[43mfiletype\u001b[49m\u001b[38;5;241;43m=\u001b[39;49m\u001b[43mfiletype\u001b[49m\u001b[43m,\u001b[49m\u001b[43m \u001b[49m\u001b[43mmaxduration\u001b[49m\u001b[38;5;241;43m=\u001b[39;49m\u001b[43mmaxduration\u001b[49m\u001b[43m,\u001b[49m\n\u001b[1;32m    221\u001b[0m \u001b[43m            \u001b[49m\u001b[43mcenter\u001b[49m\u001b[38;5;241;43m=\u001b[39;49m\u001b[43mcenter\u001b[49m\u001b[43m,\u001b[49m\u001b[43m \u001b[49m\u001b[43mrd_kwargs\u001b[49m\u001b[38;5;241;43m=\u001b[39;49m\u001b[43mrd_kwargs\u001b[49m\u001b[43m,\u001b[49m\u001b[43m \u001b[49m\u001b[38;5;241;43m*\u001b[39;49m\u001b[38;5;241;43m*\u001b[39;49m\u001b[43mhtml_kwargs\u001b[49m\u001b[43m)\u001b[49m)\n",
      "File \u001b[0;32m~/anaconda3/lib/python3.10/site-packages/moviepy/video/io/html_tools.py:107\u001b[0m, in \u001b[0;36mhtml_embed\u001b[0;34m(clip, filetype, maxduration, rd_kwargs, center, **html_kwargs)\u001b[0m\n\u001b[1;32m    104\u001b[0m     \u001b[38;5;28;01melse\u001b[39;00m:\n\u001b[1;32m    105\u001b[0m       \u001b[38;5;28;01mraise\u001b[39;00m \u001b[38;5;167;01mValueError\u001b[39;00m(\u001b[38;5;124m\"\u001b[39m\u001b[38;5;124mUnknown class for the clip. Cannot embed and preview.\u001b[39m\u001b[38;5;124m\"\u001b[39m)\n\u001b[0;32m--> 107\u001b[0m     \u001b[38;5;28;01mreturn\u001b[39;00m \u001b[43mhtml_embed\u001b[49m\u001b[43m(\u001b[49m\u001b[43mfilename\u001b[49m\u001b[43m,\u001b[49m\u001b[43m \u001b[49m\u001b[43mmaxduration\u001b[49m\u001b[38;5;241;43m=\u001b[39;49m\u001b[43mmaxduration\u001b[49m\u001b[43m,\u001b[49m\u001b[43m \u001b[49m\u001b[43mrd_kwargs\u001b[49m\u001b[38;5;241;43m=\u001b[39;49m\u001b[43mrd_kwargs\u001b[49m\u001b[43m,\u001b[49m\n\u001b[1;32m    108\u001b[0m \u001b[43m                       \u001b[49m\u001b[43mcenter\u001b[49m\u001b[38;5;241;43m=\u001b[39;49m\u001b[43mcenter\u001b[49m\u001b[43m,\u001b[49m\u001b[43m \u001b[49m\u001b[38;5;241;43m*\u001b[39;49m\u001b[38;5;241;43m*\u001b[39;49m\u001b[43mhtml_kwargs\u001b[49m\u001b[43m)\u001b[49m\n\u001b[1;32m    110\u001b[0m filename \u001b[38;5;241m=\u001b[39m clip\n\u001b[1;32m    111\u001b[0m options \u001b[38;5;241m=\u001b[39m \u001b[38;5;124m\"\u001b[39m\u001b[38;5;124m \u001b[39m\u001b[38;5;124m\"\u001b[39m\u001b[38;5;241m.\u001b[39mjoin([\u001b[38;5;124m\"\u001b[39m\u001b[38;5;132;01m%s\u001b[39;00m\u001b[38;5;124m=\u001b[39m\u001b[38;5;124m'\u001b[39m\u001b[38;5;132;01m%s\u001b[39;00m\u001b[38;5;124m'\u001b[39m\u001b[38;5;124m\"\u001b[39m\u001b[38;5;241m%\u001b[39m(\u001b[38;5;28mstr\u001b[39m(k), \u001b[38;5;28mstr\u001b[39m(v)) \u001b[38;5;28;01mfor\u001b[39;00m k,v \u001b[38;5;129;01min\u001b[39;00m html_kwargs\u001b[38;5;241m.\u001b[39mitems()])\n",
      "File \u001b[0;32m~/anaconda3/lib/python3.10/site-packages/moviepy/video/io/html_tools.py:142\u001b[0m, in \u001b[0;36mhtml_embed\u001b[0;34m(clip, filetype, maxduration, rd_kwargs, center, **html_kwargs)\u001b[0m\n\u001b[1;32m    140\u001b[0m     duration \u001b[38;5;241m=\u001b[39m ffmpeg_parse_infos(filename)[\u001b[38;5;124m'\u001b[39m\u001b[38;5;124mduration\u001b[39m\u001b[38;5;124m'\u001b[39m]\n\u001b[1;32m    141\u001b[0m     \u001b[38;5;28;01mif\u001b[39;00m duration \u001b[38;5;241m>\u001b[39m maxduration:\n\u001b[0;32m--> 142\u001b[0m         \u001b[38;5;28;01mraise\u001b[39;00m \u001b[38;5;167;01mValueError\u001b[39;00m(\u001b[38;5;124m\"\u001b[39m\u001b[38;5;124mThe duration of video \u001b[39m\u001b[38;5;132;01m%s\u001b[39;00m\u001b[38;5;124m (\u001b[39m\u001b[38;5;132;01m%.1f\u001b[39;00m\u001b[38;5;124m) exceeds the \u001b[39m\u001b[38;5;124m'\u001b[39m\u001b[38;5;124mmaxduration\u001b[39m\u001b[38;5;124m'\u001b[39m\u001b[38;5;124m \u001b[39m\u001b[38;5;124m\"\u001b[39m\u001b[38;5;241m%\u001b[39m(filename, duration)\u001b[38;5;241m+\u001b[39m\n\u001b[1;32m    143\u001b[0m                          \u001b[38;5;124m\"\u001b[39m\u001b[38;5;124mattribute. You can increase \u001b[39m\u001b[38;5;124m'\u001b[39m\u001b[38;5;124mmaxduration\u001b[39m\u001b[38;5;124m'\u001b[39m\u001b[38;5;124m, by passing \u001b[39m\u001b[38;5;124m'\u001b[39m\u001b[38;5;124mmaxduration\u001b[39m\u001b[38;5;124m'\u001b[39m\u001b[38;5;124m parameter\u001b[39m\u001b[38;5;124m\"\u001b[39m\n\u001b[1;32m    144\u001b[0m                          \u001b[38;5;124m\"\u001b[39m\u001b[38;5;124mto ipython_display function.\u001b[39m\u001b[38;5;124m\"\u001b[39m\n\u001b[1;32m    145\u001b[0m                          \u001b[38;5;124m\"\u001b[39m\u001b[38;5;124mBut note that embedding large videos may take all the memory away !\u001b[39m\u001b[38;5;124m\"\u001b[39m)\n\u001b[1;32m    147\u001b[0m \u001b[38;5;28;01mwith\u001b[39;00m \u001b[38;5;28mopen\u001b[39m(filename, \u001b[38;5;124m\"\u001b[39m\u001b[38;5;124mrb\u001b[39m\u001b[38;5;124m\"\u001b[39m) \u001b[38;5;28;01mas\u001b[39;00m f:\n\u001b[1;32m    148\u001b[0m     data\u001b[38;5;241m=\u001b[39m b64encode(f\u001b[38;5;241m.\u001b[39mread())\u001b[38;5;241m.\u001b[39mdecode(\u001b[38;5;124m\"\u001b[39m\u001b[38;5;124mutf-8\u001b[39m\u001b[38;5;124m\"\u001b[39m)\n",
      "\u001b[0;31mValueError\u001b[0m: The duration of video __temp__.mp4 (295.4) exceeds the 'maxduration' attribute. You can increase 'maxduration', by passing 'maxduration' parameterto ipython_display function.But note that embedding large videos may take all the memory away !"
     ]
    }
   ],
   "source": [
    "# Import everything needed to edit video clips\n",
    "from moviepy.editor import *\n",
    "\n",
    "i = 0\n",
    "clips = list(range(len(video_files)))\n",
    "while i < len(video_files):\n",
    "    clips[i] = VideoFileClip(mypath + video_files[i])\n",
    "    i = i + 1\n",
    "\n",
    "clips\n",
    "combined_vids = concatenate_videoclips(clips)\n",
    "#vid_audio = concatenate_audioclips(clips)\n",
    "#combined_vids\n",
    "#combined_vids.set_audio(\"combined_vidsTEMP_MPY_wvf_snd.mp3\")\n",
    "#combined_vids.write_videofile(\"combined_vids.mp4\")\n",
    "combined_vids.ipython_display(width = 480)"
   ]
  },
  {
   "cell_type": "code",
   "execution_count": null,
   "id": "3ad3526d",
   "metadata": {},
   "outputs": [],
   "source": [
    "# Import everything needed to edit video clips\n",
    "from moviepy.editor import *\n",
    " \n",
    "# loading video dsa gfg intro video\n",
    "clip = VideoFileClip(\"/SampleVideos/\")\n",
    " \n",
    "# getting subclip as video is large\n",
    "clip1 = clip.subclip(0, 5)\n",
    " \n",
    " \n",
    "# loading video gfg\n",
    "clipx = VideoFileClip(\"geeks.mp4\")\n",
    " \n",
    "# getting subclip\n",
    "clip2 = clipx.subclip(0, 5)\n",
    " \n",
    "# clip list\n",
    "clips = [clip1, clip2]\n",
    " \n",
    "# concatenating both the clips\n",
    "final = concatenate_videoclips(clips)\n",
    " \n",
    "# showing final clip\n",
    "final.ipython_display(width = 480)"
   ]
  }
 ],
 "metadata": {
  "kernelspec": {
   "display_name": "Python 3 (ipykernel)",
   "language": "python",
   "name": "python3"
  },
  "language_info": {
   "codemirror_mode": {
    "name": "ipython",
    "version": 3
   },
   "file_extension": ".py",
   "mimetype": "text/x-python",
   "name": "python",
   "nbconvert_exporter": "python",
   "pygments_lexer": "ipython3",
   "version": "3.10.9"
  }
 },
 "nbformat": 4,
 "nbformat_minor": 5
}
