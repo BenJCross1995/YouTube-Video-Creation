{
 "cells": [
  {
   "cell_type": "markdown",
   "metadata": {},
   "source": [
    "# TikTok Video Downloader\n"
   ]
  },
  {
   "cell_type": "markdown",
   "metadata": {},
   "source": [
    "The code below queries on hashtag and returns the number of items specifiec by the user. Current hashtag is fyp and 50 items."
   ]
  },
  {
   "cell_type": "code",
   "execution_count": 6,
   "metadata": {},
   "outputs": [],
   "source": [
    "import http.client\n",
    "\n",
    "conn = http.client.HTTPSConnection(\"tiktok82.p.rapidapi.com\")\n",
    "\n",
    "headers = {\n",
    "    'X-RapidAPI-Key': \"ee9f9a0a74mshdf11304da3f9e15p15be10jsna76036e001f3\",\n",
    "    'X-RapidAPI-Host': \"tiktok82.p.rapidapi.com\"\n",
    "    }\n",
    "\n",
    "conn.request(\"GET\", \"/getChallengeVideos?hashtag=fyp&cursor=50\", headers=headers)\n",
    "\n",
    "res = conn.getresponse()\n",
    "tiktok_hashtag_info = res.read()"
   ]
  },
  {
   "cell_type": "code",
   "execution_count": 26,
   "metadata": {},
   "outputs": [],
   "source": [
    "import pandas as pd\n",
    "import json\n",
    "df = json.loads(tiktok_hashtag_info.decode(\"utf-8\"))['data']['item_list']\n",
    "df = pd.DataFrame.from_dict(df)\n",
    "df = df[['id', 'desc', 'createTime', 'video', 'author', 'stats', 'authorStats']]"
   ]
  },
  {
   "cell_type": "code",
   "execution_count": 27,
   "metadata": {},
   "outputs": [],
   "source": [
    "df = pd.concat([df.drop('video', axis=1),\n",
    "                pd.DataFrame(df['video'].tolist())], axis=1)\n",
    "df = pd.concat([df.drop('stats', axis=1),\n",
    "                pd.DataFrame(df['stats'].tolist())], axis=1)\n",
    "df = pd.concat([df.drop('authorStats', axis=1),\n",
    "                pd.DataFrame(df['authorStats'].tolist())], axis=1)"
   ]
  },
  {
   "cell_type": "code",
   "execution_count": 28,
   "metadata": {},
   "outputs": [],
   "source": [
    "df = pd.concat([df.drop('author', axis=1),\n",
    "                pd.json_normalize(df['author'])], axis=1)"
   ]
  },
  {
   "cell_type": "code",
   "execution_count": 29,
   "metadata": {},
   "outputs": [],
   "source": [
    "df = pd.concat([df.iloc[:,0], df[['desc', 'createTime', 'height', 'width', 'duration', 'downloadAddr',\n",
    "   'shareCount', 'commentCount', 'playCount', 'followerCount', 'heartCount',\n",
    "   'uniqueId', 'nickname']]], axis = 1)\n",
    "df = df.sort_values(['playCount', 'shareCount', 'followerCount'], ascending = False)"
   ]
  },
  {
   "cell_type": "code",
   "execution_count": 42,
   "metadata": {},
   "outputs": [],
   "source": [
    "df['videoUrl'] = \"/getDownloadVideoWithWatermark?video_url=https%3A%2F%2Fwww.tiktok.com%2F%40\" + df['uniqueId'] + \"%2Fvideo%2F\" + df['id']"
   ]
  },
  {
   "cell_type": "code",
   "execution_count": 57,
   "metadata": {},
   "outputs": [],
   "source": [
    "# df.to_csv(\"storedData.csv\")"
   ]
  },
  {
   "cell_type": "markdown",
   "metadata": {},
   "source": [
    "Code below downloads video with watermark. Will need to edit for a loop.\n"
   ]
  },
  {
   "cell_type": "code",
   "execution_count": 43,
   "metadata": {},
   "outputs": [
    {
     "data": {
      "text/plain": [
       "7     /getDownloadVideoWithWatermark?video_url=https...\n",
       "2     /getDownloadVideoWithWatermark?video_url=https...\n",
       "4     /getDownloadVideoWithWatermark?video_url=https...\n",
       "9     /getDownloadVideoWithWatermark?video_url=https...\n",
       "3     /getDownloadVideoWithWatermark?video_url=https...\n",
       "8     /getDownloadVideoWithWatermark?video_url=https...\n",
       "6     /getDownloadVideoWithWatermark?video_url=https...\n",
       "1     /getDownloadVideoWithWatermark?video_url=https...\n",
       "11    /getDownloadVideoWithWatermark?video_url=https...\n",
       "0     /getDownloadVideoWithWatermark?video_url=https...\n",
       "5     /getDownloadVideoWithWatermark?video_url=https...\n",
       "10    /getDownloadVideoWithWatermark?video_url=https...\n",
       "Name: videoUrl, dtype: object"
      ]
     },
     "execution_count": 43,
     "metadata": {},
     "output_type": "execute_result"
    }
   ],
   "source": [
    "vids_to_download = df['videoUrl']"
   ]
  },
  {
   "cell_type": "code",
   "execution_count": 44,
   "metadata": {},
   "outputs": [],
   "source": [
    "import http.client\n",
    "import urllib.request\n",
    "\n",
    "conn = http.client.HTTPSConnection(\"tiktok82.p.rapidapi.com\")\n",
    "\n",
    "headers = {\n",
    "    'X-RapidAPI-Key': \"ee9f9a0a74mshdf11304da3f9e15p15be10jsna76036e001f3\",\n",
    "    'X-RapidAPI-Host': \"tiktok82.p.rapidapi.com\"\n",
    "    }\n",
    "\n",
    "loc = \"./VidsForUpload/\"\n",
    "i = 0\n",
    "\n",
    "# Loop through files and load the videos and combine into a list\n",
    "while i < len(vids_to_download):\n",
    "    filename = \"vid_\" + f'{i:02d}' + \".mp4\"\n",
    "    vid_url = vids_to_download[i]\n",
    "    save_location = loc + filename\n",
    "    conn.request(\"GET\",\n",
    "                 vid_url,\n",
    "                 headers=headers)\n",
    "    \n",
    "    res = conn.getresponse()\n",
    "    data = res.read()\n",
    "    HQ_url = json.loads(data.decode(\"utf-8\"))['video_url_HQ']\n",
    "    url_link = HQ_url\n",
    "    urllib.request.urlretrieve(url_link, save_location) \n",
    "    i = i + 1"
   ]
  },
  {
   "cell_type": "markdown",
   "metadata": {},
   "source": [
    "Keep any files stored in selected directory which are of the usual type. This is done as within a sample of videos downloaded from TikTok, the majority were MP4 but one was MOV."
   ]
  },
  {
   "cell_type": "code",
   "execution_count": 52,
   "metadata": {},
   "outputs": [],
   "source": [
    "# Load packages for file observation\n",
    "from os import listdir\n",
    "from os.path import isfile, join\n",
    "\n",
    "# Selected folder containing sample videos\n",
    "mypath = \"./VidsForUpload/\"\n",
    "usual_types = (\"MP4\", \"MOV\", \"WMV\", \"AVI\", \"AVCHD\",\n",
    "               \"FLV\", \"F4V\", \"SWF\", \"MKV\", \"WEBM\", \"HTML5\",\n",
    "              \"mp4\")\n",
    "\n",
    "# Get the files then filter them so only those ending with above are kept.\n",
    "video_files = [f for f in listdir(mypath) if isfile(join(mypath, f))]\n",
    "video_files = [val for val in video_files if val.endswith(usual_types)]"
   ]
  },
  {
   "cell_type": "markdown",
   "metadata": {},
   "source": [
    "The following appends all videos in the location together. This may change so that i can add directly from URL without saving the videos to my harddrive."
   ]
  },
  {
   "cell_type": "code",
   "execution_count": 54,
   "metadata": {},
   "outputs": [],
   "source": [
    "# Import moviepy to combine videos\n",
    "from moviepy.editor import *\n",
    "\n",
    "# Start the loop at 0 and create empty list the length of the files\n",
    "i = 0\n",
    "clips = list(range(len(video_files)))\n",
    "\n",
    "# Loop through files and load the videos and combine into a list\n",
    "while i < len(video_files):\n",
    "    clips[i] = VideoFileClip(mypath + video_files[i])\n",
    "    i = i + 1\n",
    "\n",
    "# Combine all the videos together\n",
    "combined_vids = concatenate_videoclips(clips)"
   ]
  },
  {
   "cell_type": "code",
   "execution_count": 56,
   "metadata": {},
   "outputs": [
    {
     "name": "stderr",
     "output_type": "stream",
     "text": [
      "chunk:   0%|▏                                                             | 26/8566 [00:00<00:33, 258.67it/s, now=None]"
     ]
    },
    {
     "name": "stdout",
     "output_type": "stream",
     "text": [
      "Moviepy - Building video video_for_upload.mp4.\n",
      "MoviePy - Writing audio in video_for_uploadTEMP_MPY_wvf_snd.mp3\n"
     ]
    },
    {
     "name": "stderr",
     "output_type": "stream",
     "text": [
      "t:   0%|                                                                   | 3/23308 [00:00<13:33, 28.66it/s, now=None]"
     ]
    },
    {
     "name": "stdout",
     "output_type": "stream",
     "text": [
      "MoviePy - Done.\n",
      "Moviepy - Writing video video_for_upload.mp4\n",
      "\n"
     ]
    },
    {
     "name": "stderr",
     "output_type": "stream",
     "text": [
      "                                                                                                                       \r"
     ]
    },
    {
     "name": "stdout",
     "output_type": "stream",
     "text": [
      "Moviepy - Done !\n",
      "Moviepy - video ready video_for_upload.mp4\n"
     ]
    }
   ],
   "source": [
    "# Write the video\n",
    "combined_vids.write_videofile(\"video_for_upload.mp4\")"
   ]
  },
  {
   "cell_type": "code",
   "execution_count": null,
   "metadata": {},
   "outputs": [],
   "source": []
  }
 ],
 "metadata": {
  "kernelspec": {
   "display_name": "Python 3",
   "language": "python",
   "name": "python3"
  },
  "language_info": {
   "codemirror_mode": {
    "name": "ipython",
    "version": 3
   },
   "file_extension": ".py",
   "mimetype": "text/x-python",
   "name": "python",
   "nbconvert_exporter": "python",
   "pygments_lexer": "ipython3",
   "version": "3.8.3"
  }
 },
 "nbformat": 4,
 "nbformat_minor": 5
}
